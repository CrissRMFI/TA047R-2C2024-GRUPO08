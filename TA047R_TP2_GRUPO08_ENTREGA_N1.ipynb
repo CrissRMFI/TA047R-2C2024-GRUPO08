{
  "nbformat": 4,
  "nbformat_minor": 0,
  "metadata": {
    "colab": {
      "provenance": [],
      "include_colab_link": true
    },
    "kernelspec": {
      "name": "python3",
      "display_name": "Python 3"
    },
    "language_info": {
      "name": "python"
    }
  },
  "cells": [
    {
      "cell_type": "markdown",
      "metadata": {
        "id": "view-in-github",
        "colab_type": "text"
      },
      "source": [
        "<a href=\"https://colab.research.google.com/github/CrissRMFI/TA047R-2C2024-GRUPO08/blob/main/TA047R_TP2_GRUPO08_ENTREGA_N1.ipynb\" target=\"_parent\"><img src=\"https://colab.research.google.com/assets/colab-badge.svg\" alt=\"Open In Colab\"/></a>"
      ]
    },
    {
      "cell_type": "code",
      "source": [
        "!pip install spacy"
      ],
      "metadata": {
        "id": "TSouQe-zqSTX",
        "colab": {
          "base_uri": "https://localhost:8080/"
        },
        "outputId": "a4420297-7be0-491b-88d5-88943b33eb0a"
      },
      "execution_count": null,
      "outputs": [
        {
          "output_type": "stream",
          "name": "stdout",
          "text": [
            "Requirement already satisfied: spacy in /usr/local/lib/python3.10/dist-packages (3.7.5)\n",
            "Requirement already satisfied: spacy-legacy<3.1.0,>=3.0.11 in /usr/local/lib/python3.10/dist-packages (from spacy) (3.0.12)\n",
            "Requirement already satisfied: spacy-loggers<2.0.0,>=1.0.0 in /usr/local/lib/python3.10/dist-packages (from spacy) (1.0.5)\n",
            "Requirement already satisfied: murmurhash<1.1.0,>=0.28.0 in /usr/local/lib/python3.10/dist-packages (from spacy) (1.0.10)\n",
            "Requirement already satisfied: cymem<2.1.0,>=2.0.2 in /usr/local/lib/python3.10/dist-packages (from spacy) (2.0.8)\n",
            "Requirement already satisfied: preshed<3.1.0,>=3.0.2 in /usr/local/lib/python3.10/dist-packages (from spacy) (3.0.9)\n",
            "Requirement already satisfied: thinc<8.3.0,>=8.2.2 in /usr/local/lib/python3.10/dist-packages (from spacy) (8.2.5)\n",
            "Requirement already satisfied: wasabi<1.2.0,>=0.9.1 in /usr/local/lib/python3.10/dist-packages (from spacy) (1.1.3)\n",
            "Requirement already satisfied: srsly<3.0.0,>=2.4.3 in /usr/local/lib/python3.10/dist-packages (from spacy) (2.4.8)\n",
            "Requirement already satisfied: catalogue<2.1.0,>=2.0.6 in /usr/local/lib/python3.10/dist-packages (from spacy) (2.0.10)\n",
            "Requirement already satisfied: weasel<0.5.0,>=0.1.0 in /usr/local/lib/python3.10/dist-packages (from spacy) (0.4.1)\n",
            "Requirement already satisfied: typer<1.0.0,>=0.3.0 in /usr/local/lib/python3.10/dist-packages (from spacy) (0.13.0)\n",
            "Requirement already satisfied: tqdm<5.0.0,>=4.38.0 in /usr/local/lib/python3.10/dist-packages (from spacy) (4.66.6)\n",
            "Requirement already satisfied: requests<3.0.0,>=2.13.0 in /usr/local/lib/python3.10/dist-packages (from spacy) (2.32.3)\n",
            "Requirement already satisfied: pydantic!=1.8,!=1.8.1,<3.0.0,>=1.7.4 in /usr/local/lib/python3.10/dist-packages (from spacy) (2.9.2)\n",
            "Requirement already satisfied: jinja2 in /usr/local/lib/python3.10/dist-packages (from spacy) (3.1.4)\n",
            "Requirement already satisfied: setuptools in /usr/local/lib/python3.10/dist-packages (from spacy) (75.1.0)\n",
            "Requirement already satisfied: packaging>=20.0 in /usr/local/lib/python3.10/dist-packages (from spacy) (24.2)\n",
            "Requirement already satisfied: langcodes<4.0.0,>=3.2.0 in /usr/local/lib/python3.10/dist-packages (from spacy) (3.4.1)\n",
            "Requirement already satisfied: numpy>=1.19.0 in /usr/local/lib/python3.10/dist-packages (from spacy) (1.26.4)\n",
            "Requirement already satisfied: language-data>=1.2 in /usr/local/lib/python3.10/dist-packages (from langcodes<4.0.0,>=3.2.0->spacy) (1.2.0)\n",
            "Requirement already satisfied: annotated-types>=0.6.0 in /usr/local/lib/python3.10/dist-packages (from pydantic!=1.8,!=1.8.1,<3.0.0,>=1.7.4->spacy) (0.7.0)\n",
            "Requirement already satisfied: pydantic-core==2.23.4 in /usr/local/lib/python3.10/dist-packages (from pydantic!=1.8,!=1.8.1,<3.0.0,>=1.7.4->spacy) (2.23.4)\n",
            "Requirement already satisfied: typing-extensions>=4.6.1 in /usr/local/lib/python3.10/dist-packages (from pydantic!=1.8,!=1.8.1,<3.0.0,>=1.7.4->spacy) (4.12.2)\n",
            "Requirement already satisfied: charset-normalizer<4,>=2 in /usr/local/lib/python3.10/dist-packages (from requests<3.0.0,>=2.13.0->spacy) (3.4.0)\n",
            "Requirement already satisfied: idna<4,>=2.5 in /usr/local/lib/python3.10/dist-packages (from requests<3.0.0,>=2.13.0->spacy) (3.10)\n",
            "Requirement already satisfied: urllib3<3,>=1.21.1 in /usr/local/lib/python3.10/dist-packages (from requests<3.0.0,>=2.13.0->spacy) (2.2.3)\n",
            "Requirement already satisfied: certifi>=2017.4.17 in /usr/local/lib/python3.10/dist-packages (from requests<3.0.0,>=2.13.0->spacy) (2024.8.30)\n",
            "Requirement already satisfied: blis<0.8.0,>=0.7.8 in /usr/local/lib/python3.10/dist-packages (from thinc<8.3.0,>=8.2.2->spacy) (0.7.11)\n",
            "Requirement already satisfied: confection<1.0.0,>=0.0.1 in /usr/local/lib/python3.10/dist-packages (from thinc<8.3.0,>=8.2.2->spacy) (0.1.5)\n",
            "Requirement already satisfied: click>=8.0.0 in /usr/local/lib/python3.10/dist-packages (from typer<1.0.0,>=0.3.0->spacy) (8.1.7)\n",
            "Requirement already satisfied: shellingham>=1.3.0 in /usr/local/lib/python3.10/dist-packages (from typer<1.0.0,>=0.3.0->spacy) (1.5.4)\n",
            "Requirement already satisfied: rich>=10.11.0 in /usr/local/lib/python3.10/dist-packages (from typer<1.0.0,>=0.3.0->spacy) (13.9.4)\n",
            "Requirement already satisfied: cloudpathlib<1.0.0,>=0.7.0 in /usr/local/lib/python3.10/dist-packages (from weasel<0.5.0,>=0.1.0->spacy) (0.20.0)\n",
            "Requirement already satisfied: smart-open<8.0.0,>=5.2.1 in /usr/local/lib/python3.10/dist-packages (from weasel<0.5.0,>=0.1.0->spacy) (7.0.5)\n",
            "Requirement already satisfied: MarkupSafe>=2.0 in /usr/local/lib/python3.10/dist-packages (from jinja2->spacy) (3.0.2)\n",
            "Requirement already satisfied: marisa-trie>=0.7.7 in /usr/local/lib/python3.10/dist-packages (from language-data>=1.2->langcodes<4.0.0,>=3.2.0->spacy) (1.2.1)\n",
            "Requirement already satisfied: markdown-it-py>=2.2.0 in /usr/local/lib/python3.10/dist-packages (from rich>=10.11.0->typer<1.0.0,>=0.3.0->spacy) (3.0.0)\n",
            "Requirement already satisfied: pygments<3.0.0,>=2.13.0 in /usr/local/lib/python3.10/dist-packages (from rich>=10.11.0->typer<1.0.0,>=0.3.0->spacy) (2.18.0)\n",
            "Requirement already satisfied: wrapt in /usr/local/lib/python3.10/dist-packages (from smart-open<8.0.0,>=5.2.1->weasel<0.5.0,>=0.1.0->spacy) (1.16.0)\n",
            "Requirement already satisfied: mdurl~=0.1 in /usr/local/lib/python3.10/dist-packages (from markdown-it-py>=2.2.0->rich>=10.11.0->typer<1.0.0,>=0.3.0->spacy) (0.1.2)\n"
          ]
        }
      ]
    },
    {
      "cell_type": "code",
      "execution_count": null,
      "metadata": {
        "id": "kYa-jXTcrhWd"
      },
      "outputs": [],
      "source": [
        "import pandas as pd\n",
        "import nltk\n",
        "from nltk import sent_tokenize\n",
        "from sklearn.preprocessing import LabelEncoder\n",
        "import numpy as np\n",
        "import seaborn as sns\n",
        "from sklearn.feature_extraction.text import CountVectorizer"
      ]
    },
    {
      "cell_type": "code",
      "source": [
        "sns.set(style=\"whitegrid\")"
      ],
      "metadata": {
        "id": "o6roEae_VSR6"
      },
      "execution_count": null,
      "outputs": []
    },
    {
      "cell_type": "code",
      "source": [
        "train_set = pd.read_csv('train.csv')\n",
        "test_set = pd.read_csv('test.csv')"
      ],
      "metadata": {
        "id": "E2stSQExr5Zi"
      },
      "execution_count": null,
      "outputs": []
    },
    {
      "cell_type": "code",
      "source": [
        "import spacy\n",
        "nlp = spacy.load('en_core_web_sm')"
      ],
      "metadata": {
        "id": "gKmYIK2OyuR2"
      },
      "execution_count": null,
      "outputs": []
    },
    {
      "cell_type": "code",
      "source": [
        "nltk.download('punkt')"
      ],
      "metadata": {
        "colab": {
          "base_uri": "https://localhost:8080/"
        },
        "id": "Ye6flZI6CFUG",
        "outputId": "2c386038-7e5b-41bf-c4f0-df8af1a8a35c"
      },
      "execution_count": null,
      "outputs": [
        {
          "output_type": "stream",
          "name": "stderr",
          "text": [
            "[nltk_data] Downloading package punkt to /root/nltk_data...\n",
            "[nltk_data]   Package punkt is already up-to-date!\n"
          ]
        },
        {
          "output_type": "execute_result",
          "data": {
            "text/plain": [
              "True"
            ]
          },
          "metadata": {},
          "execution_count": 24
        }
      ]
    },
    {
      "cell_type": "markdown",
      "source": [
        "# Pre - Procesamiento"
      ],
      "metadata": {
        "id": "-Xwmxelx0E8p"
      }
    },
    {
      "cell_type": "markdown",
      "source": [
        "### Separo los datos en variables de entrada y etiquetas"
      ],
      "metadata": {
        "id": "O5RFwnWdsexI"
      }
    },
    {
      "cell_type": "code",
      "source": [
        "X_train_title = train_set['title']\n",
        "X_train_description = train_set['description']\n",
        "X_train_project = train_set['project']\n",
        "Y_train_point = train_set['storypoint']"
      ],
      "metadata": {
        "id": "Kn9k6oDrseTi"
      },
      "execution_count": null,
      "outputs": []
    },
    {
      "cell_type": "code",
      "source": [
        "label_encoder = LabelEncoder()\n",
        "train_set['project-encoder'] = label_encoder.fit_transform(train_set['project']).reshape(-1, 1)\n",
        "test_set['project-encoder'] = label_encoder.fit_transform(test_set['project']).reshape(-1, 1)"
      ],
      "metadata": {
        "id": "Di4GGBo_r4Z1"
      },
      "execution_count": null,
      "outputs": []
    },
    {
      "cell_type": "code",
      "source": [
        "import matplotlib.pyplot as plt\n",
        "\n",
        "plt.figure(figsize=(8, 4))\n",
        "sns.countplot(data=train_set,x='storypoint')\n",
        "plt.xlabel('StoryPoint')\n",
        "plt.ylabel('Frecuencia')\n",
        "plt.title('Distribucion de Storypoint')\n",
        "plt.legend()\n",
        "plt.show()"
      ],
      "metadata": {
        "colab": {
          "base_uri": "https://localhost:8080/",
          "height": 457
        },
        "id": "k8ejC40a39Jm",
        "outputId": "615044e3-7b6c-4afa-bab0-0a7cbfaf79e3"
      },
      "execution_count": null,
      "outputs": [
        {
          "output_type": "stream",
          "name": "stderr",
          "text": [
            "WARNING:matplotlib.legend:No artists with labels found to put in legend.  Note that artists whose label start with an underscore are ignored when legend() is called with no argument.\n"
          ]
        },
        {
          "output_type": "display_data",
          "data": {
            "text/plain": [
              "<Figure size 800x400 with 1 Axes>"
            ],
            "image/png": "[encoded data removed]"
          },
          "metadata": {}
        }
      ]
    },
    {
      "cell_type": "markdown",
      "source": [
        "### Mostramos un sample de algunas descripciones, titulos y storypoint"
      ],
      "metadata": {
        "id": "4XJHLB6S6z3Z"
      }
    },
    {
      "cell_type": "code",
      "source": [
        "sample_train = train_set.sample(n=10)\n",
        "\n",
        "for _, row in sample_train.iterrows():\n",
        "    print(\"\\033[1m\"+\"Título:\\n\"+\"\\033[0m\", row[\"title\"])\n",
        "    print(\"\\033[1m\"+\"Descripción:\\n\"+\"\\033[0m\", row[\"description\"])\n",
        "    print(\"\\033[1m\"+ \"Storypoint: \" , row[\"storypoint\"] )\n",
        "    print(\"\\n\" + \"-\"*30 + \"\\n\")\n"
      ],
      "metadata": {
        "colab": {
          "base_uri": "https://localhost:8080/"
        },
        "id": "D6M0mny07d5V",
        "outputId": "15975ff9-6fc3-4a71-fdf1-7cdafa77909a"
      },
      "execution_count": null,
      "outputs": [
        {
          "output_type": "stream",
          "name": "stdout",
          "text": [
            "\u001b[1mTítulo:\n",
            "\u001b[0m PersistentVolumeTest.BadACLNoPrincipal is flaky\n",
            "\u001b[1mDescripción:\n",
            "\u001b[0m https://builds.apache.org/job/Mesos/1457/COMPILER=gcc,CONFIGURATION=--verbose%20--enable-libevent%20--enable-ssl,OS=centos:7,label_exp=docker%7C%7CHadoop/consoleFull    {noformat}  [ RUN      ] PersistentVolumeTest.BadACLNoPrincipal  I0108 01:13:16.117883  1325 leveldb.cpp:174] Opened db in 2.614722ms  I0108 01:13:16.118650  1325 leveldb.cpp:181] Compacted db in 706567ns  I0108 01:13:16.118702  1325 leveldb.cpp:196] Created db iterator in 24489ns  I0108 01:13:16.118723  1325 leveldb.cpp:202] Seeked to beginning of db in 2436ns  I0108 01:13:16.118738  1325 leveldb.cpp:271] Iterated through 0 keys in the db in 397ns  I0108 01:13:16.118793  1325 replica.cpp:779] Replica recovered with log positions 0 -> 0 with 1 holes and 0 unlearned  I0108 01:13:16.119627  1348 recover.cpp:447] Starting replica recovery  I0108 01:13:16.120352  1348 recover.cpp:473] Replica is in EMPTY status  I0108 01:13:16.121750  1357 replica.cpp:673] Replica in EMPTY status received a broadcasted recover request from (7084)@172.17.0.2:32801  I0108 01:13:16.122297  1353 recover.cpp:193] Received a recover response from a replica in EMPTY status  I0108 01:13:16.122747  1350 recover.cpp:564] Updating replica status to STARTING  I0108 01:13:16.123625  1354 master.cpp:365] Master 773d31e8-383d-4e4b-aa68-f9a3fb9f1fc2 (d9632dd1c41e) started on 172.17.0.2:32801  I0108 01:13:16.123946  1347 leveldb.cpp:304] Persisting metadata (8 bytes) to leveldb took 728242ns  I0108 01:13:16.123999  1347 replica.cpp:320] Persisted replica status to STARTING  I0108 01:13:16.123708  1354 master.cpp:367] Flags at startup: --acls=\"create_volumes {    principals {      values: \"test-principal\"    }    volume_types {      type: ANY    }  }  create_volumes {    principals {      type: ANY    }    volume_types {      type: NONE    }  }  \" --allocation_interval=\"1secs\" --allocator=\"HierarchicalDRF\" --authenticate=\"false\" --authenticate_slaves=\"true\" --authenticators=\"crammd5\" --authorizers=\"local\" --credentials=\"/tmp/f2rA75/credentials\" --framework_sorter=\"drf\" --help=\"false\" --hostname_lookup=\"true\" --initialize_driver_logging=\"true\" --log_auto_initialize=\"true\" --logbufsecs=\"0\" --logging_level=\"INFO\" --max_slave_ping_timeouts=\"5\" --quiet=\"false\" --recovery_slave_removal_limit=\"100%\" --registry=\"replicated_log\" --registry_fetch_timeout=\"1mins\" --registry_store_timeout=\"25secs\" --registry_strict=\"true\" --roles=\"role1\" --root_submissions=\"true\" --slave_ping_timeout=\"15secs\" --slave_reregister_timeout=\"10mins\" --user_sorter=\"drf\" --version=\"false\" --webui_dir=\"/mesos/mesos-0.27.0/_inst/share/mesos/webui\" --work_dir=\"/tmp/f2rA75/master\" --zk_session_timeout=\"10secs\"  I0108 01:13:16.124219  1354 master.cpp:414] Master allowing unauthenticated frameworks to register  I0108 01:13:16.124236  1354 master.cpp:417] Master only allowing authenticated slaves to register  I0108 01:13:16.124248  1354 credentials.hpp:35] Loading credentials for authentication from '/tmp/f2rA75/credentials'  I0108 01:13:16.124294  1358 recover.cpp:473] Replica is in STARTING status  I0108 01:13:16.124644  1354 master.cpp:456] Using default 'crammd5' authenticator  I0108 01:13:16.124820  1354 master.cpp:493] Authorization enabled  W0108 01:13:16.124843  1354 master.cpp:553] The '--roles' flag is deprecated. This flag will be removed in the future. See the Mesos 0.27 upgrade notes for more information  I0108 01:13:16.125154  1348 hierarchical.cpp:147] Initialized hierarchical allocator process  I0108 01:13:16.125334  1345 whitelist_watcher.cpp:77] No whitelist given  I0108 01:13:16.126065  1346 replica.cpp:673] Replica in STARTING status received a broadcasted recover request from (7085)@172.17.0.2:32801  I0108 01:13:16.126806  1348 recover.cpp:193] Received a recover response from a replica in STARTING status  I0108 01:13:16.128237  1354 recover.cpp:564] Updating replica status to VOTING  I0108 01:13:16.128402  1359 master.cpp:1629] The newly elected leader is master@172.17.0.2:32801 with id 773d31e8-383d-4e4b-aa68-f9a3fb9f1fc2  I0108 01:13:16.128489  1359 master.cpp:1642] Elected as the leading master!  I0108 01:13:16.128523  1359 master.cpp:1387] Recovering from registrar  I0108 01:13:16.128756  1355 registrar.cpp:307] Recovering registrar  I0108 01:13:16.129259  1344 leveldb.cpp:304] Persisting metadata (8 bytes) to leveldb took 531437ns  I0108 01:13:16.129292  1344 replica.cpp:320] Persisted replica status to VOTING  I0108 01:13:16.129425  1358 recover.cpp:578] Successfully joined the Paxos group  I0108 01:13:16.129680  1358 recover.cpp:462] Recover process terminated  I0108 01:13:16.130187  1358 log.cpp:659] Attempting to start the writer  I0108 01:13:16.131613  1352 replica.cpp:493] Replica received implicit promise request from (7086)@172.17.0.2:32801 with proposal 1  I0108 01:13:16.131983  1352 leveldb.cpp:304] Persisting metadata (8 bytes) to leveldb took 333646ns  I0108 01:13:16.132004  1352 replica.cpp:342] Persisted promised to 1  I0108 01:13:16.132627  1348 coordinator.cpp:238] Coordinator attempting to fill missing positions  I0108 01:13:16.133896  1349 replica.cpp:388] Replica received explicit promise request from (7087)@172.17.0.2:32801 for position 0 with proposal 2  I0108 01:13:16.134289  1349 leveldb.cpp:341] Persisting action (8 bytes) to leveldb took 349652ns  I0108 01:13:16.134317  1349 replica.cpp:712] Persisted action at 0  I0108 01:13:16.135470  1351 replica.cpp:537] Replica received write request for position 0 from (7088)@172.17.0.2:32801  I0108 01:13:16.135537  1351 leveldb.cpp:436] Reading position from leveldb took 36181ns  I0108 01:13:16.135901  1351 leveldb.cpp:341] Persisting action (14 bytes) to leveldb took 308752ns  I0108 01:13:16.135924  1351 replica.cpp:712] Persisted action at 0  I0108 01:13:16.136529  1347 replica.cpp:691] Replica received learned notice for position 0 from @0.0.0.0:0  I0108 01:13:16.136889  1347 leveldb.cpp:341] Persisting action (16 bytes) to leveldb took 327106ns  I0108 01:13:16.136916  1347 replica.cpp:712] Persisted action at 0  I0108 01:13:16.136943  1347 replica.cpp:697] Replica learned NOP action at position 0  I0108 01:13:16.137707  1359 log.cpp:675] Writer started with ending position 0  I0108 01:13:16.138844  1348 leveldb.cpp:436] Reading position from leveldb took 31371ns  I0108 01:13:16.139878  1356 registrar.cpp:340] Successfully fetched the registry (0B) in 0ns  I0108 01:13:16.140012  1356 registrar.cpp:439] Applied 1 operations in 42063ns; attempting to update the 'registry'  I0108 01:13:16.140797  1355 log.cpp:683] Attempting to append 170 bytes to the log  I0108 01:13:16.140974  1345 coordinator.cpp:348] Coordinator attempting to write APPEND action at position 1  I0108 01:13:16.141744  1354 replica.cpp:537] Replica received write request for position 1 from (7089)@172.17.0.2:32801  I0108 01:13:16.142226  1354 leveldb.cpp:341] Persisting action (189 bytes) to leveldb took 441971ns  I0108 01:13:16.142251  1354 replica.cpp:712] Persisted action at 1  I0108 01:13:16.142860  1351 replica.cpp:691] Replica received learned notice for position 1 from @0.0.0.0:0  I0108 01:13:16.143198  1351 leveldb.cpp:341] Persisting action (191 bytes) to leveldb took 305928ns  I0108 01:13:16.143223  1351 replica.cpp:712] Persisted action at 1  I0108 01:13:16.143241  1351 replica.cpp:697] Replica learned APPEND action at position 1  I0108 01:13:16.144271  1354 registrar.cpp:484] Successfully updated the 'registry' in 0ns  I0108 01:13:16.144435  1354 registrar.cpp:370] Successfully recovered registrar  I0108 01:13:16.144567  1359 log.cpp:702] Attempting to truncate the log to 1  I0108 01:13:16.144780  1359 coordinator.cpp:348] Coordinator attempting to write TRUNCATE action at position 2  I0108 01:13:16.144989  1348 hierarchical.cpp:165] Skipping recovery of hierarchical allocator: nothing to recover  I0108 01:13:16.144928  1354 master.cpp:1439] Recovered 0 slaves from the Registry (131B) ; allowing 10mins for slaves to re-register  I0108 01:13:16.145690  1357 replica.cpp:537] Replica received write request for position 2 from (7090)@172.17.0.2:32801  I0108 01:13:16.146072  1357 leveldb.cpp:341] Persisting action (16 bytes) to leveldb took 345113ns  I0108 01:13:16.146097  1357 replica.cpp:712] Persisted action at 2  I0108 01:13:16.146667  1358 replica.cpp:691] Replica received learned notice for position 2 from @0.0.0.0:0  I0108 01:13:16.147060  1358 leveldb.cpp:341] Persisting action (18 bytes) to leveldb took 283648ns  I0108 01:13:16.147116  1358 leveldb.cpp:399] Deleting ~1 keys from leveldb took 32174ns  I0108 01:13:16.147135  1358 replica.cpp:712] Persisted action at 2  I0108 01:13:16.147153  1358 replica.cpp:697] Replica learned TRUNCATE action at position 2  I0108 01:13:16.166832  1325 containerizer.cpp:139] Using isolation: posix/cpu,posix/mem,filesystem/posix  W0108 01:13:16.167556  1325 backend.cpp:48] Failed to create 'bind' backend: BindBackend requires root privileges  I0108 01:13:16.170526  1349 slave.cpp:191] Slave started on 231)@172.17.0.2:32801  I0108 01:13:16.170718  1349 slave.cpp:192] Flags at startup: --appc_store_dir=\"/tmp/mesos/store/appc\" --authenticatee=\"crammd5\" --cgroups_cpu_enable_pids_and_tids_count=\"false\" --cgroups_enable_cfs=\"false\" --cgroups_hierarchy=\"/sys/fs/cgroup\" --cgroups_limit_swap=\"false\" --cgroups_root=\"mesos\" --container_disk_watch_interval=\"15secs\" --containerizers=\"mesos\" --credential=\"/tmp/PersistentVolumeTest_BadACLNoPrincipal_yqJjLY/credential\" --default_role=\"*\" --disk_watch_interval=\"1mins\" --docker=\"docker\" --docker_auth_server=\"https://auth.docker.io\" --docker_kill_orphans=\"true\" --docker_puller_timeout=\"60\" --docker_registry=\"https://registry-1.docker.io\" --docker_remove_delay=\"6hrs\" --docker_socket=\"/var/run/docker.sock\" --docker_stop_timeout=\"0ns\" --docker_store_dir=\"/tmp/mesos/store/docker\" --enforce_container_disk_quota=\"false\" --executor_registration_timeout=\"1mins\" --executor_shutdown_grace_period=\"5secs\" --fetcher_cache_dir=\"/tmp/PersistentVolumeTest_BadACLNoPrincipal_yqJjLY/fetch\" --fetcher_cache_size=\"2GB\" --frameworks_home=\"\" --gc_delay=\"1weeks\" --gc_disk_headroom=\"0.1\" --hadoop_home=\"\" --help=\"false\" --hostname_lookup=\"true\" --image_provisioner_backend=\"copy\" --initialize_driver_logging=\"true\" --isolation=\"posix/cpu,posix/mem\" --launcher_dir=\"/mesos/mesos-0.27.0/_build/src\" --logbufsecs=\"0\" --logging_level=\"INFO\" --oversubscribed_resources_interval=\"15secs\" --perf_duration=\"10secs\" --perf_interval=\"1mins\" --qos_correction_interval_min=\"0ns\" --quiet=\"false\" --recover=\"reconnect\" --recovery_timeout=\"15mins\" --registration_backoff_factor=\"10ms\" --resources=\"cpus:2;mem:1024;disk(role1):2048\" --revocable_cpu_low_priority=\"true\" --sandbox_directory=\"/mnt/mesos/sandbox\" --strict=\"true\" --switch_user=\"true\" --systemd_runtime_directory=\"/run/systemd/system\" --version=\"false\" --work_dir=\"/tmp/PersistentVolumeTest_BadACLNoPrincipal_yqJjLY\"  I0108 01:13:16.171269  1349 credentials.hpp:83] Loading credential for authentication from '/tmp/PersistentVolumeTest_BadACLNoPrincipal_yqJjLY/credential'  I0108 01:13:16.171505  1349 slave.cpp:322] Slave using credential for: test-principal  I0108 01:13:16.171747  1349 resources.cpp:481] Parsing resources as JSON failed: cpus:2;mem:1024;disk(role1):2048  Trying semicolon-delimited string format instead  I0108 01:13:16.172266  1349 slave.cpp:392] Slave resources: cpus(*):2; mem(*):1024; disk(role1):2048; ports(*):[31000-32000]  I0108 01:13:16.172327  1349 slave.cpp:400] Slave attributes: [  ]  I0108 01:13:16.172340  1349 slave.cpp:405] Slave hostname: d9632dd1c41e  I0108 01:13:16.172353  1349 slave.cpp:410] Slave checkpoint: true  I0108 01:13:16.173418  1353 state.cpp:58] Recovering state from '/tmp/PersistentVolumeTest_BadACLNoPrincipal_yqJjLY/meta'  I0108 01:13:16.173521  1325 sched.cpp:164] Version: 0.27.0  I0108 01:13:16.174054  1345 status_update_manager.cpp:200] Recovering status update manager  I0108 01:13:16.174289  1353 containerizer.cpp:387] Recovering containerizer  I0108 01:13:16.174295  1356 sched.cpp:268] New master detected at master@172.17.0.2:32801  I0108 01:13:16.174387  1356 sched.cpp:278] No credentials provided. Attempting to register without authentication  I0108 01:13:16.174409  1356 sched.cpp:722] Sending SUBSCRIBE call to master@172.17.0.2:32801  I0108 01:13:16.174515  1356 sched.cpp:755] Will retry registration in 1.699889272secs if necessary  I0108 01:13:16.174653  1349 master.cpp:2197] Received SUBSCRIBE call for framework 'no-principal' at scheduler-bf0ed267-b4c4-412d-9fb0-84c85cd2fbce@172.17.0.2:32801  I0108 01:13:16.174823  1349 master.cpp:1668] Authorizing framework principal '' to receive offers for role 'role1'  I0108 01:13:16.175250  1347 master.cpp:2268] Subscribing framework no-principal with checkpointing disabled and capabilities [  ]  I0108 01:13:16.175359  1353 slave.cpp:4429] Finished recovery  I0108 01:13:16.175715  1345 hierarchical.cpp:260] Added framework 773d31e8-383d-4e4b-aa68-f9a3fb9f1fc2-0000  I0108 01:13:16.175734  1351 sched.cpp:649] Framework registered with 773d31e8-383d-4e4b-aa68-f9a3fb9f1fc2-0000  I0108 01:13:16.175792  1345 hierarchical.cpp:1329] No resources available to allocate!  I0108 01:13:16.175833  1345 hierarchical.cpp:1423] No inverse offers to send out!  I0108 01:13:16.175853  1353 slave.cpp:4601] Querying resource estimator for oversubscribable resources  I0108 01:13:16.175869  1345 hierarchical.cpp:1079] Performed allocation for 0 slaves in 127881ns  I0108 01:13:16.175923  1351 sched.cpp:663] Scheduler::registered took 27956ns  I0108 01:13:16.176110  1353 slave.cpp:729] New master detected at master@172.17.0.2:32801  I0108 01:13:16.176187  1353 slave.cpp:792] Authenticating with master master@172.17.0.2:32801  I0108 01:13:16.176216  1353 slave.cpp:797] Using default CRAM-MD5 authenticatee  I0108 01:13:16.176398  1357 status_update_manager.cpp:174] Pausing sending status updates  I0108 01:13:16.176404  1353 slave.cpp:765] Detecting new master  I0108 01:13:16.176463  1358 authenticatee.cpp:121] Creating new client SASL connection  I0108 01:13:16.176553  1353 slave.cpp:4615] Received oversubscribable resources  from the resource estimator  I0108 01:13:16.176709  1353 master.cpp:5445] Authenticating slave(231)@172.17.0.2:32801  I0108 01:13:16.176823  1359 authenticator.cpp:413] Starting authentication session for crammd5_authenticatee(516)@172.17.0.2:32801  I0108 01:13:16.177135  1348 authenticator.cpp:98] Creating new server SASL connection  I0108 01:13:16.177373  1356 authenticatee.cpp:212] Received SASL authentication mechanisms: CRAM-MD5  I0108 01:13:16.177399  1356 authenticatee.cpp:238] Attempting to authenticate with mechanism 'CRAM-MD5'  I0108 01:13:16.177502  1344 authenticator.cpp:203] Received SASL authentication start  I0108 01:13:16.177563  1344 authenticator.cpp:325] Authentication requires more steps  I0108 01:13:16.177680  1346 authenticatee.cpp:258] Received SASL authentication step  I0108 01:13:16.177848  1354 authenticator.cpp:231] Received SASL authentication step  I0108 01:13:16.177883  1354 auxprop.cpp:107] Request to lookup properties for user: 'test-principal' realm: 'd9632dd1c41e' server FQDN: 'd9632dd1c41e' SASL_AUXPROP_VERIFY_AGAINST_HASH: false SASL_AUXPROP_OVERRIDE: false SASL_AUXPROP_AUTHZID: false   I0108 01:13:16.177894  1354 auxprop.cpp:179] Looking up auxiliary property '*userPassword'  I0108 01:13:16.177944  1354 auxprop.cpp:179] Looking up auxiliary property '*cmusaslsecretCRAM-MD5'  I0108 01:13:16.177994  1354 auxprop.cpp:107] Request to lookup properties for user: 'test-principal' realm: 'd9632dd1c41e' server FQDN: 'd9632dd1c41e' SASL_AUXPROP_VERIFY_AGAINST_HASH: false SASL_AUXPROP_OVERRIDE: false SASL_AUXPROP_AUTHZID: true   I0108 01:13:16.178014  1354 auxprop.cpp:129] Skipping auxiliary property '*userPassword' since SASL_AUXPROP_AUTHZID == true  I0108 01:13:16.178040  1354 auxprop.cpp:129] Skipping auxiliary property '*cmusaslsecretCRAM-MD5' since SASL_AUXPROP_AUTHZID == true  I0108 01:13:16.178066  1354 authenticator.cpp:317] Authentication success  I0108 01:13:16.178256  1355 authenticatee.cpp:298] Authentication success  I0108 01:13:16.178315  1354 master.cpp:5475] Successfully authenticated principal 'test-principal' at slave(231)@172.17.0.2:32801  I0108 01:13:16.178356  1355 authenticator.cpp:431] Authentication session cleanup for crammd5_authenticatee(516)@172.17.0.2:32801  I0108 01:13:16.178710  1354 slave.cpp:860] Successfully authenticated with master master@172.17.0.2:32801  I0108 01:13:16.178865  1354 slave.cpp:1254] Will retry registration in 13.009431ms if necessary  I0108 01:13:16.179138  1350 master.cpp:4154] Registering slave at slave(231)@172.17.0.2:32801 (d9632dd1c41e) with id 773d31e8-383d-4e4b-aa68-f9a3fb9f1fc2-S0  I0108 01:13:16.179628  1345 registrar.cpp:439] Applied 1 operations in 71663ns; attempting to update the 'registry'  I0108 01:13:16.180505  1356 log.cpp:683] Attempting to append 343 bytes to the log  I0108 01:13:16.180711  1352 coordinator.cpp:348] Coordinator attempting to write APPEND action at position 3  I0108 01:13:16.181499  1350 replica.cpp:537] Replica received write request for position 3 from (7103)@172.17.0.2:32801  I0108 01:13:16.182080  1350 leveldb.cpp:341] Persisting action (362 bytes) to leveldb took 537757ns  I0108 01:13:16.182112  1350 replica.cpp:712] Persisted action at 3  I0108 01:13:16.182749  1351 replica.cpp:691] Replica received learned notice for position 3 from @0.0.0.0:0  I0108 01:13:16.183120  1351 leveldb.cpp:341] Persisting action (364 bytes) to leveldb took 340999ns  I0108 01:13:16.183151  1351 replica.cpp:712] Persisted action at 3  I0108 01:13:16.183177  1351 replica.cpp:697] Replica learned APPEND action at position 3  I0108 01:13:16.184787  1348 registrar.cpp:484] Successfully updated the 'registry' in 0ns  I0108 01:13:16.185287  1348 log.cpp:702] Attempting to truncate the log to 3  I0108 01:13:16.185484  1349 coordinator.cpp:348] Coordinator attempting to write TRUNCATE action at position 4  I0108 01:13:16.186043  1353 slave.cpp:3371] Received ping from slave-observer(230)@172.17.0.2:32801  I0108 01:13:16.186074  1345 master.cpp:4222] Registered slave 773d31e8-383d-4e4b-aa68-f9a3fb9f1fc2-S0 at slave(231)@172.17.0.2:32801 (d9632dd1c41e) with cpus(*):2; mem(*):1024; disk(role1):2048; ports(*):[31000-32000]  I0108 01:13:16.186224  1353 slave.cpp:904] Registered with master master@172.17.0.2:32801; given slave ID 773d31e8-383d-4e4b-aa68-f9a3fb9f1fc2-S0  I0108 01:13:16.186441  1353 fetcher.cpp:81] Clearing fetcher cache  I0108 01:13:16.186486  1349 hierarchical.cpp:465] Added slave 773d31e8-383d-4e4b-aa68-f9a3fb9f1fc2-S0 (d9632dd1c41e) with cpus(*):2; mem(*):1024; disk(role1):2048; ports(*):[31000-32000] (allocated: )  I0108 01:13:16.186658  1346 status_update_manager.cpp:181] Resuming sending status updates  I0108 01:13:16.186885  1353 slave.cpp:927] Checkpointing SlaveInfo to '/tmp/PersistentVolumeTest_BadACLNoPrincipal_yqJjLY/meta/slaves/773d31e8-383d-4e4b-aa68-f9a3fb9f1fc2-S0/slave.info'  I0108 01:13:16.186905  1350 replica.cpp:537] Replica received write request for position 4 from (7104)@172.17.0.2:32801  I0108 01:13:16.187595  1350 leveldb.cpp:341] Persisting action (16 bytes) to leveldb took 645704ns  I0108 01:13:16.187628  1350 replica.cpp:712] Persisted action at 4  I0108 01:13:16.188347  1349 hierarchical.cpp:1423] No inverse offers to send out!  I0108 01:13:16.188475  1349 hierarchical.cpp:1101] Performed allocation for slave 773d31e8-383d-4e4b-aa68-f9a3fb9f1fc2-S0 in 1.861833ms  I0108 01:13:16.188560  1348 replica.cpp:691] Replica received learned notice for position 4 from @0.0.0.0:0  I0108 01:13:16.188385  1353 slave.cpp:963] Forwarding total oversubscribed resources   I0108 01:13:16.189275  1344 master.cpp:5274] Sending 1 offers to framework 773d31e8-383d-4e4b-aa68-f9a3fb9f1fc2-0000 (no-principal) at scheduler-bf0ed267-b4c4-412d-9fb0-84c85cd2fbce@172.17.0.2:32801  I0108 01:13:16.189792  1344 master.cpp:4564] Received update of slave 773d31e8-383d-4e4b-aa68-f9a3fb9f1fc2-S0 at slave(231)@1...\n",
            "\u001b[1mStorypoint:  1\n",
            "\n",
            "------------------------------\n",
            "\n",
            "\u001b[1mTítulo:\n",
            "\u001b[0m Parameter parsing does not work if an argument contains '--'.\n",
            "\u001b[1mDescripción:\n",
            "\u001b[0m Parameter parsing does not work if an argument contains '--'.    For example:    {code}  ... | transform --expression=42 | transform --expression=--payload |...  {code}    Also, I was surprised that this worked..    {code}  | transform --expression=new StringBuilder(payload).reverse() |  {code}    ... but this didn't...    {code}  | transform --expression='new StringBuilder(payload).reverse()' |  {code}    I think we need to tokenize the argument (with ' if contains spaces) and remove any surrounding '...' from the result. This means if someone wants a SpEL literal they would have to use something like     {code}--expression=''Hello, world!''{code}    resulting in a SpEL literal 'Hello, world!'\n",
            "\u001b[1mStorypoint:  1\n",
            "\n",
            "------------------------------\n",
            "\n",
            "\u001b[1mTítulo:\n",
            "\u001b[0m Vary Producer and Consumer in combination using 2 Queues (B-6) \n",
            "\u001b[1mDescripción:\n",
            "\u001b[0m The results from EC2 testing show that once prefetch and message size are set, varying the number of producers or consumers independently does not impact the message rate.  The in-house testing numbers need another plan to try an understand some discrepancies.     Using 500 prefetch, 1000 byte message size run two instances of PerfTest at the same time with each instance referencing a different queue.  Vary the number of consumer and publishers.    Test 1 (one producer / one consumer):  * -a -u q1 -p -x 1 -y 1 -s 1000 -z 60 -q 500  * -a -u q2 -p -x 1 -y 1 -s 1000 -z 60 -q 500    Test 2 (one producer / two consumers):  * -a -u q1 -p -x 1 -y 2 -s 1000 -z 60 -q 500  * -a -u q2 -p -x 1 -y 2 -s 1000 -z 60 -q 500    Test 3 (two producers / one consumer):  * -a -u q1 -p -x 2 -y 1 -s 1000 -z 120 -q 500  * -a -u q2 -p -x 2 -y 1 -s 1000 -z 120 -q 500    Test 4 (two producers / two consumers):  * -a -u q1 -p -x 2 -y 2 -s 1000 -z 60 -q 500  * -a -u q2 -p -x 2 -y 2 -s 1000 -z 60 -q 500  \n",
            "\u001b[1mStorypoint:  1\n",
            "\n",
            "------------------------------\n",
            "\n",
            "\u001b[1mTítulo:\n",
            "\u001b[0m Share Git cache among the server and local agents (if concurrent builds are on)\n",
            "\u001b[1mDescripción:\n",
            "\u001b[0m As in BAM-7635 but for Git:  Like in Summary - if concurrent builds are on then each local agent will grab its own copy of cache during code retrieval.  Cache should be reused locally for checkouts - conurrent builds or not.    This will require changing cache lock strategy to read/write - see [comment|https://atlaseye.atlassian.com/cru/CR-BAM-2388#c39662]  \n",
            "\u001b[1mStorypoint:  3\n",
            "\n",
            "------------------------------\n",
            "\n",
            "\u001b[1mTítulo:\n",
            "\u001b[0m ProvisionerDockerPullerTest.ROOT_INTERNET_CURL_ShellCommand fails.\n",
            "\u001b[1mDescripción:\n",
            "\u001b[0m {noformat}  [09:46:46] :\t [Step 11/11] [ RUN      ] ProvisionerDockerRegistryPullerTest.ROOT_INTERNET_CURL_ShellCommand  [09:46:46]W:\t [Step 11/11] I0229 09:46:46.628413  1166 leveldb.cpp:174] Opened db in 4.242882ms  [09:46:46]W:\t [Step 11/11] I0229 09:46:46.629926  1166 leveldb.cpp:181] Compacted db in 1.483621ms  [09:46:46]W:\t [Step 11/11] I0229 09:46:46.629966  1166 leveldb.cpp:196] Created db iterator in 15498ns  [09:46:46]W:\t [Step 11/11] I0229 09:46:46.629977  1166 leveldb.cpp:202] Seeked to beginning of db in 1405ns  [09:46:46]W:\t [Step 11/11] I0229 09:46:46.629984  1166 leveldb.cpp:271] Iterated through 0 keys in the db in 239ns  [09:46:46]W:\t [Step 11/11] I0229 09:46:46.630015  1166 replica.cpp:779] Replica recovered with log positions 0 -> 0 with 1 holes and 0 unlearned  [09:46:46]W:\t [Step 11/11] I0229 09:46:46.630470  1183 recover.cpp:447] Starting replica recovery  [09:46:46]W:\t [Step 11/11] I0229 09:46:46.630702  1180 recover.cpp:473] Replica is in EMPTY status  [09:46:46]W:\t [Step 11/11] I0229 09:46:46.631767  1182 replica.cpp:673] Replica in EMPTY status received a broadcasted recover request from (14567)@172.30.2.124:37431  [09:46:46]W:\t [Step 11/11] I0229 09:46:46.632115  1183 recover.cpp:193] Received a recover response from a replica in EMPTY status  [09:46:46]W:\t [Step 11/11] I0229 09:46:46.632450  1186 recover.cpp:564] Updating replica status to STARTING  [09:46:46]W:\t [Step 11/11] I0229 09:46:46.633476  1186 master.cpp:375] Master 3fbb2fb0-4f18-498b-a440-9acbf6923a13 (ip-172-30-2-124.mesosphere.io) started on 172.30.2.124:37431  [09:46:46]W:\t [Step 11/11] I0229 09:46:46.633491  1186 master.cpp:377] Flags at startup: --acls=\"\" --allocation_interval=\"1secs\" --allocator=\"HierarchicalDRF\" --authenticate=\"true\" --authenticate_http=\"true\" --authenticate_slaves=\"true\" --authenticators=\"crammd5\" --authorizers=\"local\" --credentials=\"/tmp/4UxXoW/credentials\" --framework_sorter=\"drf\" --help=\"false\" --hostname_lookup=\"true\" --http_authenticators=\"basic\" --initialize_driver_logging=\"true\" --log_auto_initialize=\"true\" --logbufsecs=\"0\" --logging_level=\"INFO\" --max_completed_frameworks=\"50\" --max_completed_tasks_per_framework=\"1000\" --max_slave_ping_timeouts=\"5\" --quiet=\"false\" --recovery_slave_removal_limit=\"100%\" --registry=\"replicated_log\" --registry_fetch_timeout=\"1mins\" --registry_store_timeout=\"100secs\" --registry_strict=\"true\" --root_submissions=\"true\" --slave_ping_timeout=\"15secs\" --slave_reregister_timeout=\"10mins\" --user_sorter=\"drf\" --version=\"false\" --webui_dir=\"/usr/local/share/mesos/webui\" --work_dir=\"/tmp/4UxXoW/master\" --zk_session_timeout=\"10secs\"  [09:46:46]W:\t [Step 11/11] I0229 09:46:46.633677  1186 master.cpp:422] Master only allowing authenticated frameworks to register  [09:46:46]W:\t [Step 11/11] I0229 09:46:46.633685  1186 master.cpp:427] Master only allowing authenticated slaves to register  [09:46:46]W:\t [Step 11/11] I0229 09:46:46.633692  1186 credentials.hpp:35] Loading credentials for authentication from '/tmp/4UxXoW/credentials'  [09:46:46]W:\t [Step 11/11] I0229 09:46:46.633851  1183 leveldb.cpp:304] Persisting metadata (8 bytes) to leveldb took 1.191043ms  [09:46:46]W:\t [Step 11/11] I0229 09:46:46.633873  1183 replica.cpp:320] Persisted replica status to STARTING  [09:46:46]W:\t [Step 11/11] I0229 09:46:46.633894  1186 master.cpp:467] Using default 'crammd5' authenticator  [09:46:46]W:\t [Step 11/11] I0229 09:46:46.634003  1186 master.cpp:536] Using default 'basic' HTTP authenticator  [09:46:46]W:\t [Step 11/11] I0229 09:46:46.634062  1184 recover.cpp:473] Replica is in STARTING status  [09:46:46]W:\t [Step 11/11] I0229 09:46:46.634109  1186 master.cpp:570] Authorization enabled  [09:46:46]W:\t [Step 11/11] I0229 09:46:46.634249  1187 whitelist_watcher.cpp:77] No whitelist given  [09:46:46]W:\t [Step 11/11] I0229 09:46:46.634255  1184 hierarchical.cpp:144] Initialized hierarchical allocator process  [09:46:46]W:\t [Step 11/11] I0229 09:46:46.634884  1187 replica.cpp:673] Replica in STARTING status received a broadcasted recover request from (14569)@172.30.2.124:37431  [09:46:46]W:\t [Step 11/11] I0229 09:46:46.635278  1181 recover.cpp:193] Received a recover response from a replica in STARTING status  [09:46:46]W:\t [Step 11/11] I0229 09:46:46.635742  1187 recover.cpp:564] Updating replica status to VOTING  [09:46:46]W:\t [Step 11/11] I0229 09:46:46.636391  1180 master.cpp:1711] The newly elected leader is master@172.30.2.124:37431 with id 3fbb2fb0-4f18-498b-a440-9acbf6923a13  [09:46:46]W:\t [Step 11/11] I0229 09:46:46.636415  1180 master.cpp:1724] Elected as the leading master!  [09:46:46]W:\t [Step 11/11] I0229 09:46:46.636430  1180 master.cpp:1469] Recovering from registrar  [09:46:46]W:\t [Step 11/11] I0229 09:46:46.636554  1187 registrar.cpp:307] Recovering registrar  [09:46:46]W:\t [Step 11/11] I0229 09:46:46.637111  1181 leveldb.cpp:304] Persisting metadata (8 bytes) to leveldb took 1.120322ms  [09:46:46]W:\t [Step 11/11] I0229 09:46:46.637133  1181 replica.cpp:320] Persisted replica status to VOTING  [09:46:46]W:\t [Step 11/11] I0229 09:46:46.637218  1186 recover.cpp:578] Successfully joined the Paxos group  [09:46:46]W:\t [Step 11/11] I0229 09:46:46.637354  1186 recover.cpp:462] Recover process terminated  [09:46:46]W:\t [Step 11/11] I0229 09:46:46.637715  1182 log.cpp:659] Attempting to start the writer  [09:46:46]W:\t [Step 11/11] I0229 09:46:46.638617  1184 replica.cpp:493] Replica received implicit promise request from (14570)@172.30.2.124:37431 with proposal 1  [09:46:46]W:\t [Step 11/11] I0229 09:46:46.639700  1184 leveldb.cpp:304] Persisting metadata (8 bytes) to leveldb took 1.057386ms  [09:46:46]W:\t [Step 11/11] I0229 09:46:46.639722  1184 replica.cpp:342] Persisted promised to 1  [09:46:46]W:\t [Step 11/11] I0229 09:46:46.640251  1184 coordinator.cpp:238] Coordinator attempting to fill missing positions  [09:46:46]W:\t [Step 11/11] I0229 09:46:46.641274  1185 replica.cpp:388] Replica received explicit promise request from (14571)@172.30.2.124:37431 for position 0 with proposal 2  [09:46:46]W:\t [Step 11/11] I0229 09:46:46.642371  1185 leveldb.cpp:341] Persisting action (8 bytes) to leveldb took 1.061574ms  [09:46:46]W:\t [Step 11/11] I0229 09:46:46.642396  1185 replica.cpp:712] Persisted action at 0  [09:46:46]W:\t [Step 11/11] I0229 09:46:46.643299  1186 replica.cpp:537] Replica received write request for position 0 from (14572)@172.30.2.124:37431  [09:46:46]W:\t [Step 11/11] I0229 09:46:46.643349  1186 leveldb.cpp:436] Reading position from leveldb took 21735ns  [09:46:46]W:\t [Step 11/11] I0229 09:46:46.644448  1186 leveldb.cpp:341] Persisting action (14 bytes) to leveldb took 1.06671ms  [09:46:46]W:\t [Step 11/11] I0229 09:46:46.644469  1186 replica.cpp:712] Persisted action at 0  [09:46:46]W:\t [Step 11/11] I0229 09:46:46.645077  1181 replica.cpp:691] Replica received learned notice for position 0 from @0.0.0.0:0  [09:46:46]W:\t [Step 11/11] I0229 09:46:46.646174  1181 leveldb.cpp:341] Persisting action (16 bytes) to leveldb took 1.069097ms  [09:46:46]W:\t [Step 11/11] I0229 09:46:46.646198  1181 replica.cpp:712] Persisted action at 0  [09:46:46]W:\t [Step 11/11] I0229 09:46:46.646211  1181 replica.cpp:697] Replica learned NOP action at position 0  [09:46:46]W:\t [Step 11/11] I0229 09:46:46.646716  1182 log.cpp:675] Writer started with ending position 0  [09:46:46]W:\t [Step 11/11] I0229 09:46:46.647538  1183 leveldb.cpp:436] Reading position from leveldb took 21456ns  [09:46:46]W:\t [Step 11/11] I0229 09:46:46.648298  1186 registrar.cpp:340] Successfully fetched the registry (0B) in 11.71072ms  [09:46:46]W:\t [Step 11/11] I0229 09:46:46.648388  1186 registrar.cpp:439] Applied 1 operations in 21138ns; attempting to update the 'registry'  [09:46:46]W:\t [Step 11/11] I0229 09:46:46.648947  1187 log.cpp:683] Attempting to append 210 bytes to the log  [09:46:46]W:\t [Step 11/11] I0229 09:46:46.649050  1183 coordinator.cpp:348] Coordinator attempting to write APPEND action at position 1  [09:46:46]W:\t [Step 11/11] I0229 09:46:46.649655  1187 replica.cpp:537] Replica received write request for position 1 from (14573)@172.30.2.124:37431  [09:46:46]W:\t [Step 11/11] I0229 09:46:46.650725  1187 leveldb.cpp:341] Persisting action (229 bytes) to leveldb took 1.041938ms  [09:46:46]W:\t [Step 11/11] I0229 09:46:46.650748  1187 replica.cpp:712] Persisted action at 1  [09:46:46]W:\t [Step 11/11] I0229 09:46:46.651198  1181 replica.cpp:691] Replica received learned notice for position 1 from @0.0.0.0:0  [09:46:46]W:\t [Step 11/11] I0229 09:46:46.652312  1181 leveldb.cpp:341] Persisting action (231 bytes) to leveldb took 1.092268ms  [09:46:46]W:\t [Step 11/11] I0229 09:46:46.652335  1181 replica.cpp:712] Persisted action at 1  [09:46:46]W:\t [Step 11/11] I0229 09:46:46.652349  1181 replica.cpp:697] Replica learned APPEND action at position 1  [09:46:46]W:\t [Step 11/11] I0229 09:46:46.653095  1187 registrar.cpp:484] Successfully updated the 'registry' in 4.664064ms  [09:46:46]W:\t [Step 11/11] I0229 09:46:46.653236  1187 registrar.cpp:370] Successfully recovered registrar  [09:46:46]W:\t [Step 11/11] I0229 09:46:46.653306  1181 log.cpp:702] Attempting to truncate the log to 1  [09:46:46]W:\t [Step 11/11] I0229 09:46:46.653476  1184 coordinator.cpp:348] Coordinator attempting to write TRUNCATE action at position 2  [09:46:46]W:\t [Step 11/11] I0229 09:46:46.653642  1183 master.cpp:1521] Recovered 0 slaves from the Registry (171B) ; allowing 10mins for slaves to re-register  [09:46:46]W:\t [Step 11/11] I0229 09:46:46.653659  1181 hierarchical.cpp:171] Skipping recovery of hierarchical allocator: nothing to recover  [09:46:46]W:\t [Step 11/11] I0229 09:46:46.654270  1181 replica.cpp:537] Replica received write request for position 2 from (14574)@172.30.2.124:37431  [09:46:46]W:\t [Step 11/11] I0229 09:46:46.655357  1181 leveldb.cpp:341] Persisting action (16 bytes) to leveldb took 1.055267ms  [09:46:46]W:\t [Step 11/11] I0229 09:46:46.655378  1181 replica.cpp:712] Persisted action at 2  [09:46:46]W:\t [Step 11/11] I0229 09:46:46.655850  1184 replica.cpp:691] Replica received learned notice for position 2 from @0.0.0.0:0  [09:46:46]W:\t [Step 11/11] I0229 09:46:46.657009  1184 leveldb.cpp:341] Persisting action (18 bytes) to leveldb took 1.137223ms  [09:46:46]W:\t [Step 11/11] I0229 09:46:46.657059  1184 leveldb.cpp:399] Deleting ~1 keys from leveldb took 26459ns  [09:46:46]W:\t [Step 11/11] I0229 09:46:46.657074  1184 replica.cpp:712] Persisted action at 2  [09:46:46]W:\t [Step 11/11] I0229 09:46:46.657089  1184 replica.cpp:697] Replica learned TRUNCATE action at position 2  [09:46:46]W:\t [Step 11/11] I0229 09:46:46.665710  1166 containerizer.cpp:149] Using isolation: docker/runtime,filesystem/linux  [09:46:46]W:\t [Step 11/11] I0229 09:46:46.672399  1166 linux_launcher.cpp:101] Using /sys/fs/cgroup/freezer as the freezer hierarchy for the Linux launcher  [09:46:46]W:\t [Step 11/11] E0229 09:46:46.676822  1166 shell.hpp:93] Command 'hadoop version 2>&1' failed; this is the output:  [09:46:46]W:\t [Step 11/11] sh: hadoop: command not found  [09:46:46]W:\t [Step 11/11] E0229 09:46:46.676851  1166 fetcher.cpp:58] Failed to create URI fetcher plugin 'hadoop': Failed to create HDFS client: Failed to execute 'hadoop version 2>&1'; the command was either not found or exited with a non-zero exit status: 127  [09:46:46]W:\t [Step 11/11] I0229 09:46:46.678383  1166 linux.cpp:81] Making '/tmp/ProvisionerDockerRegistryPullerTest_ROOT_INTERNET_CURL_ShellCommand_5BWCfv' a shared mount  [09:46:46]W:\t [Step 11/11] I0229 09:46:46.687223  1180 slave.cpp:193] Slave started on 422)@172.30.2.124:37431  [09:46:46]W:\t [Step 11/11] I0229 09:46:46.687248  1180 slave.cpp:194] Flags at startup: --appc_simple_discovery_uri_prefix=\"http://\" --appc_store_dir=\"/tmp/mesos/store/appc\" --authenticatee=\"crammd5\" --cgroups_cpu_enable_pids_and_tids_count=\"false\" --cgroups_enable_cfs=\"false\" --cgroups_hierarchy=\"/sys/fs/cgroup\" --cgroups_limit_swap=\"false\" --cgroups_root=\"mesos\" --container_disk_watch_interval=\"15secs\" --containerizers=\"mesos\" --credential=\"/tmp/ProvisionerDockerRegistryPullerTest_ROOT_INTERNET_CURL_ShellCommand_5BWCfv/credential\" --default_role=\"*\" --disk_watch_interval=\"1mins\" --docker=\"docker\" --docker_kill_orphans=\"true\" --docker_registry=\"https://registry-1.docker.io\" --docker_remove_delay=\"6hrs\" --docker_socket=\"/var/run/docker.sock\" --docker_stop_timeout=\"0ns\" --docker_store_dir=\"/tmp/mesos/store/docker\" --enforce_container_disk_quota=\"false\" --executor_registration_timeout=\"1mins\" --executor_shutdown_grace_period=\"5secs\" --fetcher_cache_dir=\"/tmp/ProvisionerDockerRegistryPullerTest_ROOT_INTERNET_CURL_ShellCommand_5BWCfv/fetch\" --fetcher_cache_size=\"2GB\" --frameworks_home=\"\" --gc_delay=\"1weeks\" --gc_disk_headroom=\"0.1\" --hadoop_home=\"\" --help=\"false\" --hostname_lookup=\"true\" --image_providers=\"docker\" --image_provisioner_backend=\"copy\" --initialize_driver_logging=\"true\" --isolation=\"docker/runtime,filesystem/linux\" --launcher_dir=\"/mnt/teamcity/work/4240ba9ddd0997c3/build/src\" --logbufsecs=\"0\" --logging_level=\"INFO\" --oversubscribed_resources_interval=\"15secs\" --perf_duration=\"10secs\" --perf_interval=\"1mins\" --qos_correction_interval_min=\"0ns\" --quiet=\"false\" --recover=\"reconnect\" --recovery_timeout=\"15mins\" --registration_backoff_factor=\"10ms\" --resources=\"cpus:2;mem:1024;disk:1024;ports:[31000-32000]\" --revocable_cpu_low_priority=\"true\" --sandbox_directory=\"/mnt/mesos/sandbox\" --strict=\"true\" --switch_user=\"true\" --systemd_enable_support=\"true\" --systemd_runtime_directory=\"/run/systemd/system\" --version=\"false\" --work_dir=\"/tmp/ProvisionerDockerRegistryPullerTest_ROOT_INTERNET_CURL_ShellCommand_5BWCfv\"  [09:46:46]W:\t [Step 11/11] I0229 09:46:46.687531  1180 credentials.hpp:83] Loading credential for authentication from '/tmp/ProvisionerDockerRegistryPullerTest_ROOT_INTERNET_CURL_ShellCommand_5BWCfv/credential'  [09:46:46]W:\t [Step 11/11] I0229 09:46:46.687666  1180 slave.cpp:324] Slave using credential for: test-principal  [09:46:46]W:\t [Step 11/11] I0229 09:46:46.687798  1180 resources.cpp:572] Parsing resources as JSON failed: cpus:2;mem:1024;disk:1024;ports:[31000-32000]  [09:46:46]W:\t [Step 11/11] Trying semicolon-delimited string format instead  [09:46:46]W:\t [Step 11/11] I0229 09:46:46.688151  1180 slave.cpp:464] Slave resources: cpus(*):2; mem(*):1024; disk(*):1024; ports(*):[31000-32000]  [09:46:46]W:\t [Step 11/11] I0229 09:46:46.688207  1180 slave.cpp:472] Slave attributes: [  ]  [09:46:46]W:\t [Step 11/11] I0229 09:46:46.688217  1180 slave.cpp:477] Slave hostname: ip-172-30-2-124.mesosphere.io  [09:46:46]W:\t [Step 11/11] I0229 09:46:46.689259  1187 state.cpp:58] Recovering state from '/tmp/ProvisionerDockerRegistryPullerTest_ROOT_INTERNET_CURL_ShellCommand_5BWCfv/meta'  [09:46:46]W:\t [Step 11/11] I0229 09:46:46.689394  1166 sched.cpp:222] Version: 0.28.0  [09:46:46]W:\t [Step 11/11] I0229 09:46:46.689497  1180 status_update_manager.cpp:200] Recovering status update manager  [09:46:46]W:\t [Step 11/11] I0229 09:46:46.689798  1182 containerizer.cpp:407] Recovering containerizer  [09:46:46]W:\t [Step 11/11] I0229 09:46:46.690021  1186 sched.cpp:326] New master detected at master@172.30.2.124:37431  [09:46:46]W:\t [Step 11/11] I0229 09:46:46.690146  1186 sched.cpp:382] Authenticating with master master@172.30.2.124:37431  [09:46:46]W:\t [Step 11/11] I0229 09:46:46.690162  1186 sched.cpp:389] Using default CRAM-MD5 authenticatee  [09:46:46]W:\t [Step 11/11] I0229 09:46:46.690378  1181 authenticatee.cpp:121] Creating new client SASL connection  [09:46:46]W:\t [Step 11/11] I0229 09:46:46.690688  1186 master.cpp:5540] Authenticating scheduler-52603476-875a-49a8-85d4-c98d102cdfab@172.30.2.124:37431  [09:46:46]W:\t [Step 11/11] I0229 09:46:46.690801  1184 authenticator.cpp:413] Starting authentication session for crammd5_authenticatee(877)@172.30.2.124:37431  [09:46:46]W:\t [Step 11/11] I0229 09:46:46.691025  1181 authenticator.cpp:98] Creating new server SASL connection  [09:46:46]W:\t [Step 11/11] I0229 09:46:46.691314  1180 authenticatee.cpp:212] Received SASL authentication mechanisms: CRAM-MD5  [09:46:46]W:\t [Step 11/11] I0229 09:46:46.691339  1180 authenticatee.cpp:238] Attempting to authenticate with mechanism 'CRAM-MD5'  [09:46:46]W:\t [Step 11/11] I0229 09:46:46.691437  1180 authenticator.cpp:203] Received SASL authentication start  [09:46:46]W:\t [Step 11/11] I0229 09:46:46.691490  1180 authenticator.cpp:325] Authentication requires more steps  [09:46:46]W:\t [Step 11/11] I0229 09:46:46.691581  1180 authenticatee.cpp:258] Received SASL authentication step  [09:46:46]W:\t [Step 11/11] I0229 09:46:46.691684  1180 authenticator.cpp:231] Received SASL authentication step  [09:46:46]W:\t [Step 11/11] I0229 09:46:46.691712  1180 auxprop.cpp:107] Request to lookup properties for user: 'test-principal' realm: 'ip-172-30-2-124.mesosphere.io' server FQDN: 'ip-172-30-2-124.mesosphere.io' SASL_AUXPROP_VERIFY_AGAINST_HASH: false SASL_AUXPROP_OVERRIDE: false SASL_AUXPROP_AUTHZID: false   [09:46:46]W:\t [Step 11/11] I0229 09:46:46.691726  1180 auxprop.cpp:179] Looking up auxiliary property '*userPassword'  [09:46:46]W:\t [Step 11/11] I0229 09:46:46.691768  1180 auxprop.cpp:179] Looking up auxiliary property '*cmusaslsecretCRAM-MD5'  [09:46:46]W:\t [Step 11/11] I0229 09:46:46.691802  1180 auxprop.cpp:107] Request to lookup properties for user: 'test-principal' realm: 'ip-172-30-2-124.mesosphere.io' server FQDN: 'ip-172-30-2-124.mesosphere.io' SASL_AUXPROP_VERIFY_AGAINST_HASH: false SASL_AUXPROP_OVERRIDE: false SASL_AUXPROP_AUTHZID: true   [09:46:46]W:\t [Step 11/11] I0229 09:46:46.691817  1180 auxprop.cpp:129] Skipping auxiliary property '*userPassword' since SASL_AUXPROP_AUTHZID == true  [09:46:46]W:\t [Step 11/11] I0229 09:46:46.691829  1180 auxprop.cpp:129] Skipping auxiliary property '*cmusaslsecretCRAM-MD5' since SASL_AUXPROP_AUTHZID == true  [09:46:46]W:\t [Step 11/11] I0229 09:46:46.691848  1180 authenticator.cpp:317] Authentication success  [09:46:46]W:\t [Step 11/11] I0229 09:46:46.691944  1186 authenticatee.cpp:298] Authentication success  [09:46:46]W:\t [Step 11/11] I0229 09:46:46.692011  1185 master.cpp:5570] Successfully authenticated principal 'test-principal' at scheduler-52603476-875a-49a8-85d4-c98d102cdfab@172.30.2.124:37431  [09:46:46]W:\t [Step 11/11] I0229 09:46:46.692056  1187 authenticator.cpp:431] Authentication session cleanup for crammd5_authenticatee(877)@172.30.2.124:37431  [09:46:46]W:\t [Step 11/11] I0229 09:46:46.692308  1184 sched.cpp:471] Successfully authenticated with master master@172.30.2.124:37431  [09:46:46]W:\t [Step 11/11] I0229 09:46:46.692325  1184 sched.cpp:776] Sending SUBSCRIBE call to master@172.30.2.124:37431  [09:46:46]W:\t [Step 11/11] I0229 09:46:46.692399  1184 sched.cpp:809] Will retry registration in 954.231367ms if necessary  [09:46:46]W:\t [Step 11/11] I0229 09:46:46.692505  1183 master.cpp:2279] Received SUBSCRIBE call for framework 'default' at scheduler-52603476-875a-49a8-85d4-c98d102cdfab@172.30.2.124:37431  [09:46:46]W:\t [Step 11/11] I0229 09:46:46.692553  1183 master.cpp:1750] Authorizing framework principal 'test-principal' to receive offers for role '*'  [09:46:46]W:\t [Step 11/11] I0229 09:46:46.692836  1184 master.cpp:2350] Subscribing framework default with checkpointing disabled and capabilities [  ]  [09:46:46]W:\t [Step 11/11] I0229 09:46:46.692942  1183 metadata_manager.cpp:188] No images to load from disk. Docker provisioner image storage path '/tmp/mesos/store/docker/storedImages' does not exist  [09:46:46]W:\t [Step 11/11] I0229 09:46:46.693208  1180 provisioner.cpp:245] Provisioner recovery complete  [09:46:46]W:\t [Step 11/11] I0229 09:46:46.693295  1186 hierarchical.cpp:265] Added framework 3fbb2fb0-4f18-498b-a440-9acbf6923a13-0000  [09:46:46]W:\t [Step 11/11] I0229 09:46:46.693357  1186 hierarchical.cpp:1437] No resources available to allocate!  [09:46:46]W:\t [Step 11/11] I0229 09:46:46.693397  1186 hierarchical.cpp:1532] No inverse offers to send out!  [09:46:46]W:\t [Step 11/11] I0229 09:46:46.693424  1186 ...\n",
            "\u001b[1mStorypoint:  3\n",
            "\n",
            "------------------------------\n",
            "\n",
            "\u001b[1mTítulo:\n",
            "\u001b[0m Allow user to switch between different update streams (Stable/RC/Beta/Nightly) easily\n",
            "\u001b[1mDescripción:\n",
            "\u001b[0m Suggest to have a group of radio buttons or a combo-box in preferences page with options Stable, RC, Beta, and Nightly. Stable will be the default choice, and when user switches to another selection, e.g. RC, we will scan the list of available update sites and replace the ones containing /stable with urls containing /rc. So for the base Studio, http://preview.appcelerator.com/appcelerator/studio/standalone/update/stable/ with be disabled and http://preview.appcelerator.com/appcelerator/studio/standalone/update/rc/ will be added and enabled.    This will apply to the add-on plugins that we provide as well, and we will keep the update url naming convention consistent across all the features. It will help reduce the likelihood of having incompatible versions of plugins installed against each other.    We could also have a remote file that contains the list of our update url prefixes, and we will append the right update stream type for the full URL to add and remove. This avoids the issue of user modifying the list of update sites manually and we no longer able to find the original url to replace.  \n",
            "\u001b[1mStorypoint:  13\n",
            "\n",
            "------------------------------\n",
            "\n",
            "\u001b[1mTítulo:\n",
            "\u001b[0m Turn off Dev Toolbox Console automatic opening on error\n",
            "\u001b[1mDescripción:\n",
            "\u001b[0m Check this - https://jira.appcelerator.org/browse/TISTUD-7458    During the studio startup, dashboard throws some errors if it is unable to identify sdkInfo path immediately.    Let's turn this off as most of the errors printed by Dev Toolbox are irrelevant and invalid - This will help us to quickly turnaround the user experience on studio startup.  \n",
            "\u001b[1mStorypoint:  3\n",
            "\n",
            "------------------------------\n",
            "\n",
            "\u001b[1mTítulo:\n",
            "\u001b[0m Unnecessary format enforcement on module short description\n",
            "\u001b[1mDescripción:\n",
            "\u001b[0m What is the functional justification for enforcing this validation on modules? Is it really necessary to enforce that the short description must start with a capitol letter and end with a period? Seems a bit unnecessary and opinionated to me.    Caused by: org.springframework.validation.BindException: org.springframework.validation.BeanPropertyBindingResult: 1 errors  Field error in object 'info' on field 'shortDescription': rejected value [...snip...]; codes [Pattern.info.shortDescription,Pattern.shortDescription,Pattern.java.lang.String,Pattern]; arguments [org.springframework.context.support.DefaultMessageSourceResolvable: codes [info.shortDescription,shortDescription]; arguments []; default message [shortDescription],[Ljavax.validation.constraints.Pattern$Flag;@3984374e,^\\p{IsUppercase}.*\\.$]; default message [Short description must start with a capital letter and end with a dot]  \n",
            "\u001b[1mStorypoint:  1\n",
            "\n",
            "------------------------------\n",
            "\n",
            "\u001b[1mTítulo:\n",
            "\u001b[0m module delete on windows throws exception\n",
            "\u001b[1mDescripción:\n",
            "\u001b[0m used module upload for processor:payload-conversion (from XD samples) All worked well until I tried to delete the module. customModule in servers.yml was set to: xd:   customModule:     home: file://c:/project/mymodulehome  StackTrace: {noformat} 2015-03-06 01:54:33,460 1.1.0.RELEASE ERROR qtp1891077689-37 rest.RestController Advice - Caught exception while handling a request java.lang.IllegalArgumentException: Could not delete module 'processor:payload-c onversion'         at org.springframework.util.Assert.isTrue(Assert.java:65)         at org.springframework.xd.dirt.module.ModuleDefinitionService.delete(Mod uleDefinitionService.java:121)         at org.springframework.xd.dirt.rest.ModulesController.delete(ModulesCont roller.java:155)         at sun.reflect.NativeMethodAccessorImpl.invoke0(Native Method)         at sun.reflect.NativeMethodAccessorImpl.invoke(Unknown Source)         at sun.reflect.DelegatingMethodAccessorImpl.invoke(Unknown Source)         at java.lang.reflect.Method.invoke(Unknown Source)         at org.springframework.web.method.support.InvocableHandlerMethod.doInvok e(InvocableHandlerMethod.java:221)         at org.springframework.web.method.support.InvocableHandlerMethod.invokeF orRequest(InvocableHandlerMethod.java:137)         at org.springframework.web.servlet.mvc.method.annotation.ServletInvocabl eHandlerMethod.invokeAndHandle(ServletInvocableHandlerMethod.java:110)         at org.springframework.web.servlet.mvc.method.annotation.RequestMappingH andlerAdapter.invokeHandleMethod(RequestMappingHandlerAdapter.java:777)         at org.springframework.web.servlet.mvc.method.annotation.RequestMappingH andlerAdapter.handleInternal(RequestMappingHandlerAdapter.java:706)         at org.springframework.web.servlet.mvc.method.AbstractHandlerMethodAdapt er.handle(AbstractHandlerMethodAdapter.java:85)         at org.springframework.web.servlet.DispatcherServlet.doDispatch(Dispatch erServlet.java:943)         at org.springframework.web.servlet.DispatcherServlet.doService(Dispatche rServlet.java:877)         at org.springframework.web.servlet.FrameworkServlet.processRequest(Frame workServlet.java:966)         at org.springframework.web.servlet.FrameworkServlet.doDelete(FrameworkSe rvlet.java:890)         at javax.servlet.http.HttpServlet.service(HttpServlet.java:761)         at org.springframework.web.servlet.FrameworkServlet.service(FrameworkSer vlet.java:842)         at javax.servlet.http.HttpServlet.service(HttpServlet.java:848)         at org.eclipse.jetty.servlet.ServletHolder.handle(ServletHolder.java:684 )         at org.eclipse.jetty.servlet.ServletHandler$CachedChain.doFilter(Servlet Handler.java:1496)         at org.springframework.boot.actuate.autoconfigure.EndpointWebMvcAutoConf iguration$ApplicationContextHeaderFilter.doFilterInternal(EndpointWebMvcAutoConf iguration.java:291)         at org.springframework.web.filter.OncePerRequestFilter.doFilter(OncePerR equestFilter.java:107)         at org.eclipse.jetty.servlet.ServletHandler$CachedChain.doFilter(Servlet Handler.java:1467)         at org.springframework.web.filter.HiddenHttpMethodFilter.doFilterInterna l(HiddenHttpMethodFilter.java:77)         at org.springframework.web.filter.OncePerRequestFilter.doFilter(OncePerR equestFilter.java:107)         at org.eclipse.jetty.servlet.ServletHandler$CachedChain.doFilter(Servlet Handler.java:1467)         at org.springframework.web.filter.HttpPutFormContentFilter.doFilterInter nal(HttpPutFormContentFilter.java:87)         at org.springframework.web.filter.OncePerRequestFilter.doFilter(OncePerR equestFilter.java:107)         at org.eclipse.jetty.servlet.ServletHandler$CachedChain.doFilter(Servlet Handler.java:1467)         at org.springframework.boot.actuate.trace.WebRequestTraceFilter.doFilter Internal(WebRequestTraceFilter.java:100)         at org.springframework.web.filter.OncePerRequestFilter.doFilter(OncePerR equestFilter.java:107)         at org.eclipse.jetty.servlet.ServletHandler$CachedChain.doFilter(Servlet Handler.java:1467)         at org.springframework.security.web.FilterChainProxy.doFilterInternal(Fi lterChainProxy.java:186)         at org.springframework.security.web.FilterChainProxy.doFilter(FilterChai nProxy.java:160)         at org.eclipse.jetty.servlet.ServletHandler$CachedChain.doFilter(Servlet Handler.java:1467)         at org.springframework.boot.actuate.autoconfigure.MetricFilterAutoConfig uration$MetricsFilter.doFilterInternal(MetricFilterAutoConfiguration.java:90)         at org.springframework.web.filter.OncePerRequestFilter.doFilter(OncePerR equestFilter.java:107)         at org.eclipse.jetty.servlet.ServletHandler$CachedChain.doFilter(Servlet Handler.java:1467)         at org.eclipse.jetty.servlet.ServletHandler.doHandle(ServletHandler.java :499)         at org.eclipse.jetty.server.handler.ScopedHandler.handle(ScopedHandler.j ava:137)         at org.eclipse.jetty.security.SecurityHandler.handle(SecurityHandler.jav a:557)         at org.eclipse.jetty.server.session.SessionHandler.doHandle(SessionHandl er.java:231)         at org.eclipse.jetty.server.handler.ContextHandler.doHandle(ContextHandl er.java:1086)         at org.eclipse.jetty.servlet.ServletHandler.doScope(ServletHandler.java: 428)         at org.eclipse.jetty.server.session.SessionHandler.doScope(SessionHandle r.java:193)         at org.eclipse.jetty.server.handler.ContextHandler.doScope(ContextHandle r.java:1020)         at org.eclipse.jetty.server.handler.ScopedHandler.handle(ScopedHandler.j ava:135)         at org.eclipse.jetty.server.handler.HandlerWrapper.handle(HandlerWrapper .java:116)         at org.eclipse.jetty.server.Server.handle(Server.java:370)         at org.eclipse.jetty.server.AbstractHttpConnection.handleRequest(Abstrac tHttpConnection.java:494)         at org.eclipse.jetty.server.AbstractHttpConnection.headerComplete(Abstra ctHttpConnection.java:971)         at org.eclipse.jetty.server.AbstractHttpConnection$RequestHandler.header Complete(AbstractHttpConnection.java:1033)         at org.eclipse.jetty.http.HttpParser.parseNext(HttpParser.java:644)         at org.eclipse.jetty.http.HttpParser.parseAvailable(HttpParser.java:235)          at org.eclipse.jetty.server.AsyncHttpConnection.handle(AsyncHttpConnecti on.java:82)         at org.eclipse.jetty.io.nio.SelectChannelEndPoint.handle(SelectChannelEn dPoint.java:667)         at org.eclipse.jetty.io.nio.SelectChannelEndPoint$1.run(SelectChannelEnd Point.java:52)         at org.eclipse.jetty.util.thread.QueuedThreadPool.runJob(QueuedThreadPoo l.java:608)         at org.eclipse.jetty.util.thread.QueuedThreadPool$3.run(QueuedThreadPool .java:543)         at java.lang.Thread.run(Unknown Source)  {noformat}\n",
            "\u001b[1mStorypoint:  3\n",
            "\n",
            "------------------------------\n",
            "\n",
            "\u001b[1mTítulo:\n",
            "\u001b[0m The lib directory for hadoop12 contains mix of hadoop versions\n",
            "\u001b[1mDescripción:\n",
            "\u001b[0m This causes issues depending on which version of the core/common jar gets loaded first - like:    xd:>hadoop fs ls  -ls: Fatal internal error  java.lang.UnsupportedOperationException: Not implemented by the DistributedFileSystem FileSystem implementation    at org.apache.hadoop.fs.FileSystem.getScheme(FileSystem.java:213)    at org.apache.hadoop.fs.FileSystem.loadFileSystems(FileSystem.java:2401)    at org.apache.hadoop.fs.FileSystem.getFileSystemClass(FileSystem.java:2411)    at org.apache.hadoop.fs.FileSystem.createFileSystem(FileSystem.java:2428)    at org.apache.hadoop.fs.FileSystem.access$200(FileSystem.java:88)    at org.apache.hadoop.fs.FileSystem$Cache.getInternal(FileSystem.java:2467)    at org.apache.hadoop.fs.FileSystem$Cache.get(FileSystem.java:2449)    at org.apache.hadoop.fs.FileSystem.get(FileSystem.java:367)    at org.apache.hadoop.fs.FileSystem.get(FileSystem.java:166)    at org.apache.hadoop.fs.FileSystem.get(FileSystem.java:351)    at org.apache.hadoop.fs.Path.getFileSystem(Path.java:287)    at org.apache.hadoop.fs.shell.PathData.expandAsGlob(PathData.java:325)    at org.apache.hadoop.fs.shell.Command.expandArgument(Command.java:224)    at org.apache.hadoop.fs.shell.Command.expandArguments(Command.java:207)    at org.apache.hadoop.fs.shell.Command.processRawArguments(Command.java:190)    at org.apache.hadoop.fs.shell.Command.run(Command.java:154)    at org.apache.hadoop.fs.FsShell.run(FsShell.java:255)    at org.springframework.xd.shell.hadoop.FsShellCommands.run(FsShellCommands.java:412)    at org.springframework.xd.shell.hadoop.FsShellCommands.runCommand(FsShellCommands.java:407)    at org.springframework.xd.shell.hadoop.FsShellCommands.ls(FsShellCommands.java:110)    at sun.reflect.NativeMethodAccessorImpl.invoke0(Native Method)    at sun.reflect.NativeMethodAccessorImpl.invoke(NativeMethodAccessorImpl.java:57)    at sun.reflect.DelegatingMethodAccessorImpl.invoke(DelegatingMethodAccessorImpl.java:43)    at java.lang.reflect.Method.invoke(Method.java:606)    at org.springframework.util.ReflectionUtils.invokeMethod(ReflectionUtils.java:191)    at org.springframework.shell.core.SimpleExecutionStrategy.invoke(SimpleExecutionStrategy.java:64)    at org.springframework.shell.core.SimpleExecutionStrategy.execute(SimpleExecutionStrategy.java:48)    at org.springframework.shell.core.AbstractShell.executeCommand(AbstractShell.java:127)    at org.springframework.shell.core.JLineShell.promptLoop(JLineShell.java:483)    at org.springframework.shell.core.JLineShell.run(JLineShell.java:157)    at java.lang.Thread.run(Thread.java:724)  \n",
            "\u001b[1mStorypoint:  3\n",
            "\n",
            "------------------------------\n",
            "\n"
          ]
        }
      ]
    },
    {
      "cell_type": "markdown",
      "source": [
        "### Eliminamos nombres de rutas y librerias"
      ],
      "metadata": {
        "id": "sDmWCLb5JMrC"
      }
    },
    {
      "cell_type": "code",
      "source": [
        "import re\n",
        "\n",
        "def clean_description(description):\n",
        "    # Eliminar rutas de archivos y librerías\n",
        "    description = re.sub(r'(/[\\w./-]+)|([a-zA-Z]:\\\\[\\w.\\\\-]+)', ' ', description)\n",
        "    # Eliminar URLs\n",
        "    description = re.sub(r'http[s]?://\\S+', ' ', description)\n",
        "    # Eliminar líneas de código (sencillas)\n",
        "    description = re.sub(r'^\\s*\\$.*$', ' ', description, flags=re.MULTILINE)\n",
        "    description = re.sub(r'^\\s*#.*$', ' ', description, flags=re.MULTILINE)\n",
        "    description = re.sub(r'`[^`]+`', ' ', description)\n",
        "    # Eliminar caracteres especiales\n",
        "    description = re.sub(r'[^a-zA-Z0-9\\s]', ' ', description)  # Mantener solo letras, números y espacios\n",
        "    # Opcional: Eliminar múltiples espacios en blanco\n",
        "    description = re.sub(r'\\s+', ' ', description).strip()  # Reemplazar múltiples espacios con uno solo y eliminar espacios al inicio y fin\n",
        "    return description\n"
      ],
      "metadata": {
        "id": "9zYjJ7EQJUUH"
      },
      "execution_count": null,
      "outputs": []
    },
    {
      "cell_type": "code",
      "source": [
        "train_set['description'] = train_set['description'].map(lambda x: clean_description(x))\n",
        "train_set['title'] = train_set['title'].map(lambda x: clean_description(x))\n",
        "test_set['description'] = test_set['description'].map(lambda x: clean_description(x))\n",
        "test_set['title'] = test_set['title'].map(lambda x: clean_description(x))"
      ],
      "metadata": {
        "id": "iK0j_-8HKDhr"
      },
      "execution_count": null,
      "outputs": []
    },
    {
      "cell_type": "markdown",
      "source": [
        "## Tokenizamaos por palabras"
      ],
      "metadata": {
        "id": "cxzCIRgkqZiI"
      }
    },
    {
      "cell_type": "markdown",
      "source": [
        "## Tokenizacion - NLTK - Stop Words"
      ],
      "metadata": {
        "id": "a7vAqeL4zADR"
      }
    },
    {
      "cell_type": "code",
      "source": [
        "from nltk.corpus import stopwords\n",
        "nltk.download('stopwords')\n",
        "stop_words = set(stopwords.words('english'))"
      ],
      "metadata": {
        "colab": {
          "base_uri": "https://localhost:8080/"
        },
        "id": "Pn4hzQ6azXBg",
        "outputId": "6c170201-e18b-4b5c-8ec1-c6b0872434de"
      },
      "execution_count": null,
      "outputs": [
        {
          "output_type": "stream",
          "name": "stderr",
          "text": [
            "[nltk_data] Downloading package stopwords to /root/nltk_data...\n",
            "[nltk_data]   Package stopwords is already up-to-date!\n"
          ]
        }
      ]
    },
    {
      "cell_type": "code",
      "source": [
        "def tokenize_and_remove_stopwords(text):\n",
        "    tokens = nltk.word_tokenize(text)\n",
        "    filtered_tokens = [token for token in tokens if token.lower() not in stop_words]\n",
        "    return filtered_tokens"
      ],
      "metadata": {
        "id": "8glULOgVzh4Z"
      },
      "execution_count": null,
      "outputs": []
    },
    {
      "cell_type": "code",
      "source": [
        "import nltk\n",
        "nltk.download('punkt_tab')"
      ],
      "metadata": {
        "colab": {
          "base_uri": "https://localhost:8080/"
        },
        "id": "uXA63v6xFZGh",
        "outputId": "23a48f68-1373-47df-d604-13d8fc63b592"
      },
      "execution_count": null,
      "outputs": [
        {
          "output_type": "stream",
          "name": "stderr",
          "text": [
            "[nltk_data] Downloading package punkt_tab to /root/nltk_data...\n",
            "[nltk_data]   Package punkt_tab is already up-to-date!\n"
          ]
        },
        {
          "output_type": "execute_result",
          "data": {
            "text/plain": [
              "True"
            ]
          },
          "metadata": {},
          "execution_count": 33
        }
      ]
    },
    {
      "cell_type": "code",
      "source": [
        "model_word_tokenize = train_set.copy(deep=True)\n",
        "tokens_title = model_word_tokenize['title'].map(lambda x: tokenize_and_remove_stopwords(x))\n",
        "tokens_description = model_word_tokenize['description'].map(lambda x: tokenize_and_remove_stopwords(x))\n",
        "mean_len_token_title = model_word_tokenize['title'].map(lambda x: np.mean([len(token) for token in tokenize_and_remove_stopwords(x)]))\n",
        "mean_len_token_description = model_word_tokenize['description'].map(lambda x: np.mean([len(token) for token in tokenize_and_remove_stopwords(x)]))\n"
      ],
      "metadata": {
        "colab": {
          "base_uri": "https://localhost:8080/"
        },
        "id": "Soq40cFqNqxc",
        "outputId": "754423e0-273d-4534-8394-900717567a2c"
      },
      "execution_count": null,
      "outputs": [
        {
          "output_type": "stream",
          "name": "stderr",
          "text": [
            "/usr/local/lib/python3.10/dist-packages/numpy/core/fromnumeric.py:3504: RuntimeWarning: Mean of empty slice.\n",
            "  return _methods._mean(a, axis=axis, dtype=dtype,\n",
            "/usr/local/lib/python3.10/dist-packages/numpy/core/_methods.py:129: RuntimeWarning: invalid value encountered in scalar divide\n",
            "  ret = ret.dtype.type(ret / rcount)\n"
          ]
        }
      ]
    },
    {
      "cell_type": "code",
      "source": [
        "sample_df = model_word_tokenize.sample(10)\n",
        "\n",
        "for _, row in sample_df.iterrows():\n",
        "    print(\"\\033[1m\" + \"Título:\\n\", row[\"title\"])\n",
        "    print(\"Descripción:\\n\", row[\"description\"])\n",
        "    print( \"Storypoint: \", row[\"storypoint\"])\n",
        "    print(\"\\n\" + \"-\"*30 + \"\\n\")"
      ],
      "metadata": {
        "colab": {
          "base_uri": "https://localhost:8080/"
        },
        "id": "hE8U19qwOltL",
        "outputId": "9648ff76-de0a-4291-f52e-8cf86fdc5bed"
      },
      "execution_count": null,
      "outputs": [
        {
          "output_type": "stream",
          "name": "stdout",
          "text": [
            "\u001b[1mTítulo:\n",
            " http does not report failure to bind to port\n",
            "Descripción:\n",
            " Stumbled upon this while having Hadoop daemons running but simple way to repoduce noformat nc lp 9000 stream create foo definition http log deploy all seems ok http post data hello Error 500 rightfully so noformat\n",
            "Storypoint:  3\n",
            "\n",
            "------------------------------\n",
            "\n",
            "\u001b[1mTítulo:\n",
            " Karaf Cellar in TESB\n",
            "Descripción:\n",
            " As a pre sales colleague I want to be able to demonstrate the clustering capabilities of the Talend Runtime Provide Karaf Cellar feature latest version 2 2 2 in the Talend Runtime Features URL shall be known but feature or features shall not be installed by default Bundles and features are available in Maven Central\n",
            "Storypoint:  1\n",
            "\n",
            "------------------------------\n",
            "\n",
            "\u001b[1mTítulo:\n",
            " Add a name field into NetworkInfo\n",
            "Descripción:\n",
            " This allows the framework writer to specify the name of the network they want their container to join Why not using groups That s because there might be multiple groups under a single network e g admin vs user public vs private etc\n",
            "Storypoint:  1\n",
            "\n",
            "------------------------------\n",
            "\n",
            "\u001b[1mTítulo:\n",
            " Fix wiki documentation to use xd shell command prompt to read xd\n",
            "Descripción:\n",
            " We need to fix the github wiki to use the xd shell command prompt xd\n",
            "Storypoint:  1\n",
            "\n",
            "------------------------------\n",
            "\n",
            "\u001b[1mTítulo:\n",
            " UI Use different icons for each service\n",
            "Descripción:\n",
            " The goal of this task is to include a different icon beside each service both in the deployed services listing and the available services listing\n",
            "Storypoint:  2\n",
            "\n",
            "------------------------------\n",
            "\n",
            "\u001b[1mTítulo:\n",
            " As a user I would like the past three comments space permitting on an issue to be displayed in the detailed card view on the rapid board\n",
            "Descripción:\n",
            " COS link to Show next 5 comments if more than n left link to Show all remaining comments if any left details of total number of comments v1 to have no tools edit no index no twixy expanded by default\n",
            "Storypoint:  5\n",
            "\n",
            "------------------------------\n",
            "\n",
            "\u001b[1mTítulo:\n",
            " Support a dependencies manifest aware Module Registry\n",
            "Descripción:\n",
            " It would be nice to be able to have modules that are simply made of Their context xml file Some kind of manifest that expresses dependencies and have the runtime take care of the deps\n",
            "Storypoint:  8\n",
            "\n",
            "------------------------------\n",
            "\n",
            "\u001b[1mTítulo:\n",
            " Prevent an Android Mobile Module project creation when JDT is not installed\n",
            "Descripción:\n",
            " Android mobile module project should not be created unless the JDT plugins feature are installed Right now a created project on an environment without JDT is not usable\n",
            "Storypoint:  5\n",
            "\n",
            "------------------------------\n",
            "\n",
            "\u001b[1mTítulo:\n",
            " Resolve remaining gaps with CI\n",
            "Descripción:\n",
            " As a developer I d like to resolve remaining gaps wrt CI pipelines for Data Flow and the family so I can continuously evaluate functionalities on every commit\n",
            "Storypoint:  8\n",
            "\n",
            "------------------------------\n",
            "\n",
            "\u001b[1mTítulo:\n",
            " Spark streaming module includes logback jar when using dist zip\n",
            "Descripción:\n",
            " When running spark streaming module on spark standalone cluster from XD distribution I see the following error Stage 3 1 1 2 2015 06 02T10 05 53 0700 1 2 0 SNAP WARN task result getter 3 scheduler TaskSetManager Lost task 0 0 in stage 3 0 TID 50 192 168 2 8 java lang IllegalArgumentException LoggerFactory is not a Logback LoggerContext but Logback is on the classpath Either remove Logback or the competing implementation class org slf4j impl Log4jLoggerFactory loaded from file If you are using Weblogic you will need to add org slf4j to prefer application packages in WEB INF Object of class org slf4j impl Log4jLoggerFactory must be an instance of class ch qos logback classic LoggerContext at org springframework util Assert isInstanceOf Assert java 339 at org springframework boot logging logback LogbackLoggingSystem getLoggerContext LogbackLoggingSystem java 151 at org springframework boot logging logback LogbackLoggingSystem getLogger LogbackLoggingSystem java 143 at org springframework boot logging logback LogbackLoggingSystem beforeInitialize LogbackLoggingSystem java 89 at org springframework boot logging LoggingApplicationListener onApplicationStartedEvent LoggingApplicationListener java 152 at org springframework boot logging LoggingApplicationListener onApplicationEvent LoggingApplicationListener java 139 at org springframework context event SimpleApplicationEventMulticaster invokeListener SimpleApplicationEventMulticaster java 151 at org springframework context event SimpleApplicationEventMulticaster multicastEvent SimpleApplicationEventMulticaster java 128 at org springframework boot context event EventPublishingRunListener publishEvent EventPublishingRunListener java 100 at org springframework boot context event EventPublishingRunListener started EventPublishingRunListener java 54 at org springframework boot SpringApplication run SpringApplication java 277 at org springframework boot builder SpringApplicationBuilder run SpringApplicationBuilder java 139 at org springframework xd dirt plugins spark streaming MessageBusConfiguration createApplicationContext MessageBusConfiguration java 82 at org springframework xd dirt plugins spark streaming MessageBusSender start MessageBusSender java 105 at org springframework xd spark streaming java ModuleExecutor 1 1 call ModuleExecutor java 58 at org springframework xd spark streaming java ModuleExecutor 1 1 call ModuleExecutor java 53\n",
            "Storypoint:  2\n",
            "\n",
            "------------------------------\n",
            "\n"
          ]
        }
      ]
    },
    {
      "cell_type": "code",
      "source": [
        "import matplotlib.pyplot as plt\n",
        "\n",
        "plt.figure(figsize=(8, 4))\n",
        "plt.hist([mean_len_token_title, mean_len_token_description], bins=30, label=['Title', 'Description'])\n",
        "plt.xlabel('Longitud promedio')\n",
        "plt.ylabel('Frecuencia')\n",
        "plt.title('Distribucion de longitud promedio de tokens')\n",
        "plt.legend()\n",
        "plt.show()"
      ],
      "metadata": {
        "colab": {
          "base_uri": "https://localhost:8080/",
          "height": 419
        },
        "id": "mBVDbEqLT2sD",
        "outputId": "3a1c8d6d-e4b4-472c-803f-d1330fad67b8"
      },
      "execution_count": null,
      "outputs": [
        {
          "output_type": "display_data",
          "data": {
            "text/plain": [
              "<Figure size 800x400 with 1 Axes>"
            ],
            "image/png": "[encoded data removed]"
          },
          "metadata": {}
        }
      ]
    },
    {
      "cell_type": "markdown",
      "source": [
        "### Vectorizamos aplicando la técnica de TF-IDF y Bag Of Words"
      ],
      "metadata": {
        "id": "S7pxVNrc0co3"
      }
    },
    {
      "cell_type": "code",
      "source": [
        "import spacy\n",
        "from sklearn.feature_extraction.text import TfidfVectorizer\n",
        "from sklearn.feature_extraction.text import CountVectorizer\n",
        "import numpy as np\n",
        "nlp = spacy.load(\"en_core_web_sm\")"
      ],
      "metadata": {
        "id": "uM0aWhhD8UwE"
      },
      "execution_count": null,
      "outputs": []
    },
    {
      "cell_type": "code",
      "source": [
        "def lemmatize_text(text):\n",
        "    doc = nlp(text)\n",
        "    return \" \".join([token.lemma_ for token in doc if not token.is_stop and not token.is_punct])"
      ],
      "metadata": {
        "id": "0pi_PVx48iDu"
      },
      "execution_count": null,
      "outputs": []
    },
    {
      "cell_type": "code",
      "source": [
        "def procesar_tfidf(data_set, train=True, vectorizer=None):\n",
        "\n",
        "    data_set['title_description_lemmatized'] = (data_set['title'] + ' ' + data_set['description']).apply(lemmatize_text)\n",
        "\n",
        "\n",
        "    if train:\n",
        "        vectorizer = TfidfVectorizer()\n",
        "        title_description_vec = vectorizer.fit_transform(data_set['title_description_lemmatized'])\n",
        "    else:\n",
        "        title_description_vec = vectorizer.transform(data_set['title_description_lemmatized'])\n",
        "\n",
        "\n",
        "    project_encoder = data_set['project-encoder'].values.reshape(-1, 1)\n",
        "    vec_tfidf = np.hstack((title_description_vec.toarray(), project_encoder))\n",
        "    data_set['tfidf'] = list(vec_tfidf)\n",
        "\n",
        "    return data_set, vectorizer\n"
      ],
      "metadata": {
        "id": "PNgvRWgE5Yko"
      },
      "execution_count": null,
      "outputs": []
    },
    {
      "cell_type": "code",
      "source": [
        "def procesar_bow(data_set, train=True, vectorizer=None):\n",
        "\n",
        "    data_set['title_description_lemmatized'] = (data_set['title'] + ' ' + data_set['description']).apply(lemmatize_text)\n",
        "\n",
        "\n",
        "    if vectorizer is None:\n",
        "        vectorizer = CountVectorizer(stop_words='english')\n",
        "\n",
        "    if train:\n",
        "        title_description_vec = vectorizer.fit_transform(data_set['title_description_lemmatized'])\n",
        "    else:\n",
        "        title_description_vec = vectorizer.transform(data_set['title_description_lemmatized'])\n",
        "\n",
        "\n",
        "    project_encoder = data_set['project-encoder'].values.reshape(-1, 1)\n",
        "    vec_bow = np.hstack((title_description_vec.toarray(), project_encoder))\n",
        "\n",
        "\n",
        "    data_set['bow'] = list(vec_bow)\n",
        "\n",
        "    return data_set, vectorizer\n"
      ],
      "metadata": {
        "id": "e5D6HyCA8Onj"
      },
      "execution_count": null,
      "outputs": []
    },
    {
      "cell_type": "markdown",
      "source": [
        "# XG Boost"
      ],
      "metadata": {
        "id": "2lvnnFBARIb5"
      }
    },
    {
      "cell_type": "code",
      "source": [
        "!pip install xgboost"
      ],
      "metadata": {
        "id": "FyuB7p6ZyuAB",
        "colab": {
          "base_uri": "https://localhost:8080/"
        },
        "outputId": "2189af19-953b-4bdf-e0a6-3979a9af1b5c"
      },
      "execution_count": null,
      "outputs": [
        {
          "output_type": "stream",
          "name": "stdout",
          "text": [
            "Requirement already satisfied: xgboost in /usr/local/lib/python3.10/dist-packages (2.1.2)\n",
            "Requirement already satisfied: numpy in /usr/local/lib/python3.10/dist-packages (from xgboost) (1.26.4)\n",
            "Requirement already satisfied: nvidia-nccl-cu12 in /usr/local/lib/python3.10/dist-packages (from xgboost) (2.23.4)\n",
            "Requirement already satisfied: scipy in /usr/local/lib/python3.10/dist-packages (from xgboost) (1.13.1)\n"
          ]
        }
      ]
    },
    {
      "cell_type": "code",
      "source": [
        "import xgboost as xgb\n",
        "from sklearn.metrics import mean_squared_error"
      ],
      "metadata": {
        "id": "cLRiuBVsRSYC"
      },
      "execution_count": null,
      "outputs": []
    },
    {
      "cell_type": "code",
      "source": [
        "train_set, vectorizer = procesar_bow(train_set, train=True)\n",
        "test_set, _ = procesar_bow(test_set, train=False, vectorizer=vectorizer)"
      ],
      "metadata": {
        "id": "Vk-eMMXAlCoH"
      },
      "execution_count": null,
      "outputs": []
    },
    {
      "cell_type": "code",
      "source": [
        "X_train = train_set['bow'].tolist()\n",
        "y_train = train_set['storypoint']\n",
        "X_test = test_set['bow'].tolist()\n",
        "\n",
        "model = xgb.XGBRegressor(objective='reg:squarederror', n_estimators=100, max_depth=6, learning_rate=0.1)\n",
        "\n",
        "model.fit(X_train, y_train)\n",
        "\n",
        "y_pred = model.predict(X_test)\n",
        "\n",
        "output = test_set[['id']].copy()\n",
        "output['storypoint'] = y_pred\n",
        "\n",
        "output.to_csv('bow_pred.csv', index=False)\n"
      ],
      "metadata": {
        "id": "7r9S_QKblGtl"
      },
      "execution_count": null,
      "outputs": []
    },
    {
      "cell_type": "code",
      "source": [
        "output = test_set[['id']].copy()\n",
        "output['storypoint'] = y_pred.round()\n",
        "\n",
        "output.to_csv('bow_pred_round.csv', index=False)\n"
      ],
      "metadata": {
        "id": "JLKyeafVsowE"
      },
      "execution_count": null,
      "outputs": []
    },
    {
      "cell_type": "code",
      "source": [
        "import pickle\n",
        "\n",
        "model_pkl_file = \"XGBoost-BOW.pkl\"\n",
        "\n",
        "with open(model_pkl_file, 'wb') as file:\n",
        "    pickle.dump(model, file)"
      ],
      "metadata": {
        "id": "xe1BX4R9FlnG"
      },
      "execution_count": null,
      "outputs": []
    }
  ]
}