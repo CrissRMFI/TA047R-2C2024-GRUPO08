{
  "cells": [
    {
      "cell_type": "markdown",
      "metadata": {
        "id": "view-in-github",
        "colab_type": "text"
      },
      "source": [
        "<a href=\"https://colab.research.google.com/github/CrissRMFI/TA047R-2C2024-GRUPO08/blob/main/TA047R_TP1_GRUPOXX_ENTREGA_EJ01.ipynb\" target=\"_parent\"><img src=\"https://colab.research.google.com/assets/colab-badge.svg\" alt=\"Open In Colab\"/></a>"
      ]
    },
    {
      "cell_type": "markdown",
      "metadata": {
        "id": "VBwVcv5-kmjP"
      },
      "source": [
        "## Análisis Exploratorio de Datos sobre Taxis Yellow Cab\n",
        "\n",
        "Realizaremos un análisis exhaustivo de un conjunto de datos sobre los viajes en taxi Yellow Cab en Estados Unidos durante el año 2023, en los meses correspondientes a Octubre, Noviembre y Diciembre"
      ]
    },
    {
      "cell_type": "code",
      "source": [
        "!pip install plotly_express\n"
      ],
      "metadata": {
        "id": "9fhz6lfPIrOJ",
        "outputId": "6b93b621-67d6-4ff3-bf21-ed53aa4c22df",
        "colab": {
          "base_uri": "https://localhost:8080/"
        }
      },
      "execution_count": 2,
      "outputs": [
        {
          "output_type": "stream",
          "name": "stdout",
          "text": [
            "Collecting plotly_express\n",
            "  Downloading plotly_express-0.4.1-py2.py3-none-any.whl.metadata (1.7 kB)\n",
            "Requirement already satisfied: pandas>=0.20.0 in /usr/local/lib/python3.10/dist-packages (from plotly_express) (2.1.4)\n",
            "Requirement already satisfied: plotly>=4.1.0 in /usr/local/lib/python3.10/dist-packages (from plotly_express) (5.15.0)\n",
            "Requirement already satisfied: statsmodels>=0.9.0 in /usr/local/lib/python3.10/dist-packages (from plotly_express) (0.14.2)\n",
            "Requirement already satisfied: scipy>=0.18 in /usr/local/lib/python3.10/dist-packages (from plotly_express) (1.13.1)\n",
            "Requirement already satisfied: patsy>=0.5 in /usr/local/lib/python3.10/dist-packages (from plotly_express) (0.5.6)\n",
            "Requirement already satisfied: numpy>=1.11 in /usr/local/lib/python3.10/dist-packages (from plotly_express) (1.26.4)\n",
            "Requirement already satisfied: python-dateutil>=2.8.2 in /usr/local/lib/python3.10/dist-packages (from pandas>=0.20.0->plotly_express) (2.8.2)\n",
            "Requirement already satisfied: pytz>=2020.1 in /usr/local/lib/python3.10/dist-packages (from pandas>=0.20.0->plotly_express) (2024.1)\n",
            "Requirement already satisfied: tzdata>=2022.1 in /usr/local/lib/python3.10/dist-packages (from pandas>=0.20.0->plotly_express) (2024.1)\n",
            "Requirement already satisfied: six in /usr/local/lib/python3.10/dist-packages (from patsy>=0.5->plotly_express) (1.16.0)\n",
            "Requirement already satisfied: tenacity>=6.2.0 in /usr/local/lib/python3.10/dist-packages (from plotly>=4.1.0->plotly_express) (9.0.0)\n",
            "Requirement already satisfied: packaging in /usr/local/lib/python3.10/dist-packages (from plotly>=4.1.0->plotly_express) (24.1)\n",
            "Downloading plotly_express-0.4.1-py2.py3-none-any.whl (2.9 kB)\n",
            "Installing collected packages: plotly_express\n",
            "Successfully installed plotly_express-0.4.1\n"
          ]
        }
      ]
    },
    {
      "cell_type": "code",
      "execution_count": 5,
      "metadata": {
        "id": "tg8RkBnalOf9"
      },
      "outputs": [],
      "source": [
        "import seaborn as sns\n",
        "import plotly_express as px\n",
        "from matplotlib import pyplot as plt\n",
        "import pyarrow.parquet as pq\n",
        "import pandas as pd\n",
        "\n",
        "trips = pq.read_table('yellow_tripdata_2023-10.parquet')\n",
        "trips_oct = trips.to_pandas()\n",
        "trips = pq.read_table('yellow_tripdata_2023-11.parquet')\n",
        "trips_nov = trips.to_pandas()\n",
        "trips = pq.read_table('yellow_tripdata_2023-12.parquet')\n",
        "trips_dec = trips.to_pandas()\n"
      ]
    },
    {
      "cell_type": "markdown",
      "metadata": {
        "id": "nATtny6otib1"
      },
      "source": [
        "## Exploración Inicial:"
      ]
    },
    {
      "cell_type": "markdown",
      "metadata": {
        "id": "_i78CgbctCWu"
      },
      "source": [
        "Verificamos que los tres DataFrame tengan exactamente las mismas columnas"
      ]
    },
    {
      "cell_type": "code",
      "execution_count": 6,
      "metadata": {
        "colab": {
          "base_uri": "https://localhost:8080/"
        },
        "id": "gXY0f9Imr6gp",
        "outputId": "18da4edb-e662-47a8-9abb-ec0ecaf656b8"
      },
      "outputs": [
        {
          "output_type": "execute_result",
          "data": {
            "text/plain": [
              "True"
            ]
          },
          "metadata": {},
          "execution_count": 6
        }
      ],
      "source": [
        "sorted(trips_nov.columns.to_list()) == sorted(trips_oct.columns.to_list()) == sorted(trips_dec.columns.to_list())"
      ]
    },
    {
      "cell_type": "markdown",
      "source": [
        "Como los tres DataFrame tienen las mismas columnas, porcedemos concatenarlos"
      ],
      "metadata": {
        "id": "Dzg5Vc-XI35D"
      }
    },
    {
      "cell_type": "code",
      "source": [
        "trips = pd.concat([trips_oct, trips_nov,trips_dec], axis=0, ignore_index=True)\n",
        "trips.head(10)"
      ],
      "metadata": {
        "id": "kfWSw-oPTkgk",
        "outputId": "636d5ab7-c398-4ba2-dd57-82fee744df3c",
        "colab": {
          "base_uri": "https://localhost:8080/",
          "height": 383
        }
      },
      "execution_count": 17,
      "outputs": [
        {
          "output_type": "execute_result",
          "data": {
            "text/plain": [
              "   VendorID tpep_pickup_datetime tpep_dropoff_datetime  passenger_count  \\\n",
              "0         1  2023-10-01 00:16:44   2023-10-01 00:16:49              1.0   \n",
              "1         1  2023-10-01 00:23:24   2023-10-01 00:23:47              1.0   \n",
              "2         1  2023-10-01 00:21:18   2023-10-01 00:27:31              1.0   \n",
              "3         1  2023-10-01 00:17:39   2023-10-01 00:17:47              0.0   \n",
              "4         2  2023-10-01 00:16:15   2023-10-01 00:22:57              2.0   \n",
              "5         2  2023-10-01 00:33:14   2023-10-01 00:52:12              1.0   \n",
              "6         2  2023-10-01 00:58:18   2023-10-01 01:01:20              2.0   \n",
              "7         2  2023-10-01 00:11:29   2023-10-01 00:32:55              2.0   \n",
              "8         1  2023-10-01 00:22:33   2023-10-01 00:34:00              0.0   \n",
              "9         1  2023-10-01 00:39:47   2023-10-01 00:48:48              1.0   \n",
              "\n",
              "   trip_distance  RatecodeID store_and_fwd_flag  PULocationID  DOLocationID  \\\n",
              "0           0.00         1.0                  N           168           168   \n",
              "1           0.00         1.0                  N           168           168   \n",
              "2           0.90         1.0                  N           161           186   \n",
              "3           0.00         1.0                  N           255           255   \n",
              "4           1.41         1.0                  N           151           239   \n",
              "5           3.15         1.0                  N           238           246   \n",
              "6           0.67         1.0                  N            50            50   \n",
              "7          14.93         1.0                  N           208           239   \n",
              "8           3.20         1.0                  N            87           249   \n",
              "9           1.30         1.0                  N           125           231   \n",
              "\n",
              "   payment_type  fare_amount  extra  mta_tax  tip_amount  tolls_amount  \\\n",
              "0             2          3.0    1.0      0.5        0.00          0.00   \n",
              "1             2          3.0    1.0      0.5        0.00          0.00   \n",
              "2             1          6.5    3.5      0.5        2.90          0.00   \n",
              "3             3          3.0    1.0      0.5        0.00          0.00   \n",
              "4             1         10.0    1.0      0.5        3.00          0.00   \n",
              "5             1         19.8    1.0      0.5        4.46          0.00   \n",
              "6             1          5.8    1.0      0.5        2.16          0.00   \n",
              "7             1         37.3    1.0      0.5       14.77          6.94   \n",
              "8             1         16.3    3.5      0.5        4.25          0.00   \n",
              "9             1         10.0    3.5      0.5        2.00          0.00   \n",
              "\n",
              "   improvement_surcharge  total_amount  congestion_surcharge  Airport_fee  \n",
              "0                    1.0          5.50                   0.0         0.00  \n",
              "1                    1.0          5.50                   0.0         0.00  \n",
              "2                    1.0         14.40                   2.5         0.00  \n",
              "3                    1.0          5.50                   0.0         0.00  \n",
              "4                    1.0         18.00                   2.5         0.00  \n",
              "5                    1.0         29.26                   2.5         0.00  \n",
              "6                    1.0         12.96                   2.5         0.00  \n",
              "7                    1.0         65.76                   2.5         1.75  \n",
              "8                    1.0         25.55                   2.5         0.00  \n",
              "9                    1.0         17.00                   2.5         0.00  "
            ],
            "text/html": [
              "\n",
              "  <div id=\"df-8649acb2-f34a-4dff-8084-faf2712f7116\" class=\"colab-df-container\">\n",
              "    <div>\n",
              "<style scoped>\n",
              "    .dataframe tbody tr th:only-of-type {\n",
              "        vertical-align: middle;\n",
              "    }\n",
              "\n",
              "    .dataframe tbody tr th {\n",
              "        vertical-align: top;\n",
              "    }\n",
              "\n",
              "    .dataframe thead th {\n",
              "        text-align: right;\n",
              "    }\n",
              "</style>\n",
              "<table border=\"1\" class=\"dataframe\">\n",
              "  <thead>\n",
              "    <tr style=\"text-align: right;\">\n",
              "      <th></th>\n",
              "      <th>VendorID</th>\n",
              "      <th>tpep_pickup_datetime</th>\n",
              "      <th>tpep_dropoff_datetime</th>\n",
              "      <th>passenger_count</th>\n",
              "      <th>trip_distance</th>\n",
              "      <th>RatecodeID</th>\n",
              "      <th>store_and_fwd_flag</th>\n",
              "      <th>PULocationID</th>\n",
              "      <th>DOLocationID</th>\n",
              "      <th>payment_type</th>\n",
              "      <th>fare_amount</th>\n",
              "      <th>extra</th>\n",
              "      <th>mta_tax</th>\n",
              "      <th>tip_amount</th>\n",
              "      <th>tolls_amount</th>\n",
              "      <th>improvement_surcharge</th>\n",
              "      <th>total_amount</th>\n",
              "      <th>congestion_surcharge</th>\n",
              "      <th>Airport_fee</th>\n",
              "    </tr>\n",
              "  </thead>\n",
              "  <tbody>\n",
              "    <tr>\n",
              "      <th>0</th>\n",
              "      <td>1</td>\n",
              "      <td>2023-10-01 00:16:44</td>\n",
              "      <td>2023-10-01 00:16:49</td>\n",
              "      <td>1.0</td>\n",
              "      <td>0.00</td>\n",
              "      <td>1.0</td>\n",
              "      <td>N</td>\n",
              "      <td>168</td>\n",
              "      <td>168</td>\n",
              "      <td>2</td>\n",
              "      <td>3.0</td>\n",
              "      <td>1.0</td>\n",
              "      <td>0.5</td>\n",
              "      <td>0.00</td>\n",
              "      <td>0.00</td>\n",
              "      <td>1.0</td>\n",
              "      <td>5.50</td>\n",
              "      <td>0.0</td>\n",
              "      <td>0.00</td>\n",
              "    </tr>\n",
              "    <tr>\n",
              "      <th>1</th>\n",
              "      <td>1</td>\n",
              "      <td>2023-10-01 00:23:24</td>\n",
              "      <td>2023-10-01 00:23:47</td>\n",
              "      <td>1.0</td>\n",
              "      <td>0.00</td>\n",
              "      <td>1.0</td>\n",
              "      <td>N</td>\n",
              "      <td>168</td>\n",
              "      <td>168</td>\n",
              "      <td>2</td>\n",
              "      <td>3.0</td>\n",
              "      <td>1.0</td>\n",
              "      <td>0.5</td>\n",
              "      <td>0.00</td>\n",
              "      <td>0.00</td>\n",
              "      <td>1.0</td>\n",
              "      <td>5.50</td>\n",
              "      <td>0.0</td>\n",
              "      <td>0.00</td>\n",
              "    </tr>\n",
              "    <tr>\n",
              "      <th>2</th>\n",
              "      <td>1</td>\n",
              "      <td>2023-10-01 00:21:18</td>\n",
              "      <td>2023-10-01 00:27:31</td>\n",
              "      <td>1.0</td>\n",
              "      <td>0.90</td>\n",
              "      <td>1.0</td>\n",
              "      <td>N</td>\n",
              "      <td>161</td>\n",
              "      <td>186</td>\n",
              "      <td>1</td>\n",
              "      <td>6.5</td>\n",
              "      <td>3.5</td>\n",
              "      <td>0.5</td>\n",
              "      <td>2.90</td>\n",
              "      <td>0.00</td>\n",
              "      <td>1.0</td>\n",
              "      <td>14.40</td>\n",
              "      <td>2.5</td>\n",
              "      <td>0.00</td>\n",
              "    </tr>\n",
              "    <tr>\n",
              "      <th>3</th>\n",
              "      <td>1</td>\n",
              "      <td>2023-10-01 00:17:39</td>\n",
              "      <td>2023-10-01 00:17:47</td>\n",
              "      <td>0.0</td>\n",
              "      <td>0.00</td>\n",
              "      <td>1.0</td>\n",
              "      <td>N</td>\n",
              "      <td>255</td>\n",
              "      <td>255</td>\n",
              "      <td>3</td>\n",
              "      <td>3.0</td>\n",
              "      <td>1.0</td>\n",
              "      <td>0.5</td>\n",
              "      <td>0.00</td>\n",
              "      <td>0.00</td>\n",
              "      <td>1.0</td>\n",
              "      <td>5.50</td>\n",
              "      <td>0.0</td>\n",
              "      <td>0.00</td>\n",
              "    </tr>\n",
              "    <tr>\n",
              "      <th>4</th>\n",
              "      <td>2</td>\n",
              "      <td>2023-10-01 00:16:15</td>\n",
              "      <td>2023-10-01 00:22:57</td>\n",
              "      <td>2.0</td>\n",
              "      <td>1.41</td>\n",
              "      <td>1.0</td>\n",
              "      <td>N</td>\n",
              "      <td>151</td>\n",
              "      <td>239</td>\n",
              "      <td>1</td>\n",
              "      <td>10.0</td>\n",
              "      <td>1.0</td>\n",
              "      <td>0.5</td>\n",
              "      <td>3.00</td>\n",
              "      <td>0.00</td>\n",
              "      <td>1.0</td>\n",
              "      <td>18.00</td>\n",
              "      <td>2.5</td>\n",
              "      <td>0.00</td>\n",
              "    </tr>\n",
              "    <tr>\n",
              "      <th>5</th>\n",
              "      <td>2</td>\n",
              "      <td>2023-10-01 00:33:14</td>\n",
              "      <td>2023-10-01 00:52:12</td>\n",
              "      <td>1.0</td>\n",
              "      <td>3.15</td>\n",
              "      <td>1.0</td>\n",
              "      <td>N</td>\n",
              "      <td>238</td>\n",
              "      <td>246</td>\n",
              "      <td>1</td>\n",
              "      <td>19.8</td>\n",
              "      <td>1.0</td>\n",
              "      <td>0.5</td>\n",
              "      <td>4.46</td>\n",
              "      <td>0.00</td>\n",
              "      <td>1.0</td>\n",
              "      <td>29.26</td>\n",
              "      <td>2.5</td>\n",
              "      <td>0.00</td>\n",
              "    </tr>\n",
              "    <tr>\n",
              "      <th>6</th>\n",
              "      <td>2</td>\n",
              "      <td>2023-10-01 00:58:18</td>\n",
              "      <td>2023-10-01 01:01:20</td>\n",
              "      <td>2.0</td>\n",
              "      <td>0.67</td>\n",
              "      <td>1.0</td>\n",
              "      <td>N</td>\n",
              "      <td>50</td>\n",
              "      <td>50</td>\n",
              "      <td>1</td>\n",
              "      <td>5.8</td>\n",
              "      <td>1.0</td>\n",
              "      <td>0.5</td>\n",
              "      <td>2.16</td>\n",
              "      <td>0.00</td>\n",
              "      <td>1.0</td>\n",
              "      <td>12.96</td>\n",
              "      <td>2.5</td>\n",
              "      <td>0.00</td>\n",
              "    </tr>\n",
              "    <tr>\n",
              "      <th>7</th>\n",
              "      <td>2</td>\n",
              "      <td>2023-10-01 00:11:29</td>\n",
              "      <td>2023-10-01 00:32:55</td>\n",
              "      <td>2.0</td>\n",
              "      <td>14.93</td>\n",
              "      <td>1.0</td>\n",
              "      <td>N</td>\n",
              "      <td>208</td>\n",
              "      <td>239</td>\n",
              "      <td>1</td>\n",
              "      <td>37.3</td>\n",
              "      <td>1.0</td>\n",
              "      <td>0.5</td>\n",
              "      <td>14.77</td>\n",
              "      <td>6.94</td>\n",
              "      <td>1.0</td>\n",
              "      <td>65.76</td>\n",
              "      <td>2.5</td>\n",
              "      <td>1.75</td>\n",
              "    </tr>\n",
              "    <tr>\n",
              "      <th>8</th>\n",
              "      <td>1</td>\n",
              "      <td>2023-10-01 00:22:33</td>\n",
              "      <td>2023-10-01 00:34:00</td>\n",
              "      <td>0.0</td>\n",
              "      <td>3.20</td>\n",
              "      <td>1.0</td>\n",
              "      <td>N</td>\n",
              "      <td>87</td>\n",
              "      <td>249</td>\n",
              "      <td>1</td>\n",
              "      <td>16.3</td>\n",
              "      <td>3.5</td>\n",
              "      <td>0.5</td>\n",
              "      <td>4.25</td>\n",
              "      <td>0.00</td>\n",
              "      <td>1.0</td>\n",
              "      <td>25.55</td>\n",
              "      <td>2.5</td>\n",
              "      <td>0.00</td>\n",
              "    </tr>\n",
              "    <tr>\n",
              "      <th>9</th>\n",
              "      <td>1</td>\n",
              "      <td>2023-10-01 00:39:47</td>\n",
              "      <td>2023-10-01 00:48:48</td>\n",
              "      <td>1.0</td>\n",
              "      <td>1.30</td>\n",
              "      <td>1.0</td>\n",
              "      <td>N</td>\n",
              "      <td>125</td>\n",
              "      <td>231</td>\n",
              "      <td>1</td>\n",
              "      <td>10.0</td>\n",
              "      <td>3.5</td>\n",
              "      <td>0.5</td>\n",
              "      <td>2.00</td>\n",
              "      <td>0.00</td>\n",
              "      <td>1.0</td>\n",
              "      <td>17.00</td>\n",
              "      <td>2.5</td>\n",
              "      <td>0.00</td>\n",
              "    </tr>\n",
              "  </tbody>\n",
              "</table>\n",
              "</div>\n",
              "    <div class=\"colab-df-buttons\">\n",
              "\n",
              "  <div class=\"colab-df-container\">\n",
              "    <button class=\"colab-df-convert\" onclick=\"convertToInteractive('df-8649acb2-f34a-4dff-8084-faf2712f7116')\"\n",
              "            title=\"Convert this dataframe to an interactive table.\"\n",
              "            style=\"display:none;\">\n",
              "\n",
              "  <svg xmlns=\"http://www.w3.org/2000/svg\" height=\"24px\" viewBox=\"0 -960 960 960\">\n",
              "    <path d=\"M120-120v-720h720v720H120Zm60-500h600v-160H180v160Zm220 220h160v-160H400v160Zm0 220h160v-160H400v160ZM180-400h160v-160H180v160Zm440 0h160v-160H620v160ZM180-180h160v-160H180v160Zm440 0h160v-160H620v160Z\"/>\n",
              "  </svg>\n",
              "    </button>\n",
              "\n",
              "  <style>\n",
              "    .colab-df-container {\n",
              "      display:flex;\n",
              "      gap: 12px;\n",
              "    }\n",
              "\n",
              "    .colab-df-convert {\n",
              "      background-color: #E8F0FE;\n",
              "      border: none;\n",
              "      border-radius: 50%;\n",
              "      cursor: pointer;\n",
              "      display: none;\n",
              "      fill: #1967D2;\n",
              "      height: 32px;\n",
              "      padding: 0 0 0 0;\n",
              "      width: 32px;\n",
              "    }\n",
              "\n",
              "    .colab-df-convert:hover {\n",
              "      background-color: #E2EBFA;\n",
              "      box-shadow: 0px 1px 2px rgba(60, 64, 67, 0.3), 0px 1px 3px 1px rgba(60, 64, 67, 0.15);\n",
              "      fill: #174EA6;\n",
              "    }\n",
              "\n",
              "    .colab-df-buttons div {\n",
              "      margin-bottom: 4px;\n",
              "    }\n",
              "\n",
              "    [theme=dark] .colab-df-convert {\n",
              "      background-color: #3B4455;\n",
              "      fill: #D2E3FC;\n",
              "    }\n",
              "\n",
              "    [theme=dark] .colab-df-convert:hover {\n",
              "      background-color: #434B5C;\n",
              "      box-shadow: 0px 1px 3px 1px rgba(0, 0, 0, 0.15);\n",
              "      filter: drop-shadow(0px 1px 2px rgba(0, 0, 0, 0.3));\n",
              "      fill: #FFFFFF;\n",
              "    }\n",
              "  </style>\n",
              "\n",
              "    <script>\n",
              "      const buttonEl =\n",
              "        document.querySelector('#df-8649acb2-f34a-4dff-8084-faf2712f7116 button.colab-df-convert');\n",
              "      buttonEl.style.display =\n",
              "        google.colab.kernel.accessAllowed ? 'block' : 'none';\n",
              "\n",
              "      async function convertToInteractive(key) {\n",
              "        const element = document.querySelector('#df-8649acb2-f34a-4dff-8084-faf2712f7116');\n",
              "        const dataTable =\n",
              "          await google.colab.kernel.invokeFunction('convertToInteractive',\n",
              "                                                    [key], {});\n",
              "        if (!dataTable) return;\n",
              "\n",
              "        const docLinkHtml = 'Like what you see? Visit the ' +\n",
              "          '<a target=\"_blank\" href=https://colab.research.google.com/notebooks/data_table.ipynb>data table notebook</a>'\n",
              "          + ' to learn more about interactive tables.';\n",
              "        element.innerHTML = '';\n",
              "        dataTable['output_type'] = 'display_data';\n",
              "        await google.colab.output.renderOutput(dataTable, element);\n",
              "        const docLink = document.createElement('div');\n",
              "        docLink.innerHTML = docLinkHtml;\n",
              "        element.appendChild(docLink);\n",
              "      }\n",
              "    </script>\n",
              "  </div>\n",
              "\n",
              "\n",
              "<div id=\"df-12dfe7c3-271b-4606-b97c-b41e659f9a33\">\n",
              "  <button class=\"colab-df-quickchart\" onclick=\"quickchart('df-12dfe7c3-271b-4606-b97c-b41e659f9a33')\"\n",
              "            title=\"Suggest charts\"\n",
              "            style=\"display:none;\">\n",
              "\n",
              "<svg xmlns=\"http://www.w3.org/2000/svg\" height=\"24px\"viewBox=\"0 0 24 24\"\n",
              "     width=\"24px\">\n",
              "    <g>\n",
              "        <path d=\"M19 3H5c-1.1 0-2 .9-2 2v14c0 1.1.9 2 2 2h14c1.1 0 2-.9 2-2V5c0-1.1-.9-2-2-2zM9 17H7v-7h2v7zm4 0h-2V7h2v10zm4 0h-2v-4h2v4z\"/>\n",
              "    </g>\n",
              "</svg>\n",
              "  </button>\n",
              "\n",
              "<style>\n",
              "  .colab-df-quickchart {\n",
              "      --bg-color: #E8F0FE;\n",
              "      --fill-color: #1967D2;\n",
              "      --hover-bg-color: #E2EBFA;\n",
              "      --hover-fill-color: #174EA6;\n",
              "      --disabled-fill-color: #AAA;\n",
              "      --disabled-bg-color: #DDD;\n",
              "  }\n",
              "\n",
              "  [theme=dark] .colab-df-quickchart {\n",
              "      --bg-color: #3B4455;\n",
              "      --fill-color: #D2E3FC;\n",
              "      --hover-bg-color: #434B5C;\n",
              "      --hover-fill-color: #FFFFFF;\n",
              "      --disabled-bg-color: #3B4455;\n",
              "      --disabled-fill-color: #666;\n",
              "  }\n",
              "\n",
              "  .colab-df-quickchart {\n",
              "    background-color: var(--bg-color);\n",
              "    border: none;\n",
              "    border-radius: 50%;\n",
              "    cursor: pointer;\n",
              "    display: none;\n",
              "    fill: var(--fill-color);\n",
              "    height: 32px;\n",
              "    padding: 0;\n",
              "    width: 32px;\n",
              "  }\n",
              "\n",
              "  .colab-df-quickchart:hover {\n",
              "    background-color: var(--hover-bg-color);\n",
              "    box-shadow: 0 1px 2px rgba(60, 64, 67, 0.3), 0 1px 3px 1px rgba(60, 64, 67, 0.15);\n",
              "    fill: var(--button-hover-fill-color);\n",
              "  }\n",
              "\n",
              "  .colab-df-quickchart-complete:disabled,\n",
              "  .colab-df-quickchart-complete:disabled:hover {\n",
              "    background-color: var(--disabled-bg-color);\n",
              "    fill: var(--disabled-fill-color);\n",
              "    box-shadow: none;\n",
              "  }\n",
              "\n",
              "  .colab-df-spinner {\n",
              "    border: 2px solid var(--fill-color);\n",
              "    border-color: transparent;\n",
              "    border-bottom-color: var(--fill-color);\n",
              "    animation:\n",
              "      spin 1s steps(1) infinite;\n",
              "  }\n",
              "\n",
              "  @keyframes spin {\n",
              "    0% {\n",
              "      border-color: transparent;\n",
              "      border-bottom-color: var(--fill-color);\n",
              "      border-left-color: var(--fill-color);\n",
              "    }\n",
              "    20% {\n",
              "      border-color: transparent;\n",
              "      border-left-color: var(--fill-color);\n",
              "      border-top-color: var(--fill-color);\n",
              "    }\n",
              "    30% {\n",
              "      border-color: transparent;\n",
              "      border-left-color: var(--fill-color);\n",
              "      border-top-color: var(--fill-color);\n",
              "      border-right-color: var(--fill-color);\n",
              "    }\n",
              "    40% {\n",
              "      border-color: transparent;\n",
              "      border-right-color: var(--fill-color);\n",
              "      border-top-color: var(--fill-color);\n",
              "    }\n",
              "    60% {\n",
              "      border-color: transparent;\n",
              "      border-right-color: var(--fill-color);\n",
              "    }\n",
              "    80% {\n",
              "      border-color: transparent;\n",
              "      border-right-color: var(--fill-color);\n",
              "      border-bottom-color: var(--fill-color);\n",
              "    }\n",
              "    90% {\n",
              "      border-color: transparent;\n",
              "      border-bottom-color: var(--fill-color);\n",
              "    }\n",
              "  }\n",
              "</style>\n",
              "\n",
              "  <script>\n",
              "    async function quickchart(key) {\n",
              "      const quickchartButtonEl =\n",
              "        document.querySelector('#' + key + ' button');\n",
              "      quickchartButtonEl.disabled = true;  // To prevent multiple clicks.\n",
              "      quickchartButtonEl.classList.add('colab-df-spinner');\n",
              "      try {\n",
              "        const charts = await google.colab.kernel.invokeFunction(\n",
              "            'suggestCharts', [key], {});\n",
              "      } catch (error) {\n",
              "        console.error('Error during call to suggestCharts:', error);\n",
              "      }\n",
              "      quickchartButtonEl.classList.remove('colab-df-spinner');\n",
              "      quickchartButtonEl.classList.add('colab-df-quickchart-complete');\n",
              "    }\n",
              "    (() => {\n",
              "      let quickchartButtonEl =\n",
              "        document.querySelector('#df-12dfe7c3-271b-4606-b97c-b41e659f9a33 button');\n",
              "      quickchartButtonEl.style.display =\n",
              "        google.colab.kernel.accessAllowed ? 'block' : 'none';\n",
              "    })();\n",
              "  </script>\n",
              "</div>\n",
              "\n",
              "    </div>\n",
              "  </div>\n"
            ],
            "application/vnd.google.colaboratory.intrinsic+json": {
              "type": "dataframe",
              "variable_name": "trips"
            }
          },
          "metadata": {},
          "execution_count": 17
        }
      ]
    },
    {
      "cell_type": "markdown",
      "metadata": {
        "id": "fPyXAXwQuhLe"
      },
      "source": [
        "Observamos las columnas y sus correspondientes tipos de datos"
      ]
    },
    {
      "cell_type": "code",
      "execution_count": 18,
      "metadata": {
        "colab": {
          "base_uri": "https://localhost:8080/"
        },
        "id": "S-Y8Ziv7vMDF",
        "outputId": "4bb2955e-af3f-4cf9-e299-4a7932385da3"
      },
      "outputs": [
        {
          "output_type": "stream",
          "name": "stdout",
          "text": [
            "<class 'pandas.core.frame.DataFrame'>\n",
            "RangeIndex: 10238567 entries, 0 to 10238566\n",
            "Data columns (total 19 columns):\n",
            " #   Column                 Dtype         \n",
            "---  ------                 -----         \n",
            " 0   VendorID               int32         \n",
            " 1   tpep_pickup_datetime   datetime64[us]\n",
            " 2   tpep_dropoff_datetime  datetime64[us]\n",
            " 3   passenger_count        float64       \n",
            " 4   trip_distance          float64       \n",
            " 5   RatecodeID             float64       \n",
            " 6   store_and_fwd_flag     object        \n",
            " 7   PULocationID           int32         \n",
            " 8   DOLocationID           int32         \n",
            " 9   payment_type           int64         \n",
            " 10  fare_amount            float64       \n",
            " 11  extra                  float64       \n",
            " 12  mta_tax                float64       \n",
            " 13  tip_amount             float64       \n",
            " 14  tolls_amount           float64       \n",
            " 15  improvement_surcharge  float64       \n",
            " 16  total_amount           float64       \n",
            " 17  congestion_surcharge   float64       \n",
            " 18  Airport_fee            float64       \n",
            "dtypes: datetime64[us](2), float64(12), int32(3), int64(1), object(1)\n",
            "memory usage: 1.3+ GB\n"
          ]
        }
      ],
      "source": [
        "trips.info()"
      ]
    },
    {
      "cell_type": "markdown",
      "metadata": {
        "id": "uhp-LoLvvnlu"
      },
      "source": [
        "En la [documentación](https://www.nyc.gov/assets/tlc/downloads/pdf/data_dictionary_trip_records_yellow.pdf) se describe el contenido de cada columna, por lo que solo haremos mención a las columnas que requieran un interés especial.\n",
        "\n"
      ]
    },
    {
      "cell_type": "markdown",
      "metadata": {
        "id": "wSRpz50byW1v"
      },
      "source": [
        "#VendorID\n",
        "Un código que indica el proveedor de TPEP que proporcionó el registro.\n",
        "\n",
        "La documentación indica que los posibles valores son:\n",
        "  1.   Creative Mobile Technologies, LLC\n",
        "  2.   VeriFone Inc\n",
        "\n"
      ]
    },
    {
      "cell_type": "code",
      "execution_count": 28,
      "metadata": {
        "colab": {
          "base_uri": "https://localhost:8080/",
          "height": 209
        },
        "id": "5FfZnL1ezOKM",
        "outputId": "0d1ac153-20bd-4876-e3f4-1689e8a59153"
      },
      "outputs": [
        {
          "output_type": "execute_result",
          "data": {
            "text/plain": [
              "VendorID\n",
              "2    74.576813\n",
              "1    25.409757\n",
              "6     0.013430\n",
              "Name: proportion, dtype: float64"
            ],
            "text/html": [
              "<div>\n",
              "<style scoped>\n",
              "    .dataframe tbody tr th:only-of-type {\n",
              "        vertical-align: middle;\n",
              "    }\n",
              "\n",
              "    .dataframe tbody tr th {\n",
              "        vertical-align: top;\n",
              "    }\n",
              "\n",
              "    .dataframe thead th {\n",
              "        text-align: right;\n",
              "    }\n",
              "</style>\n",
              "<table border=\"1\" class=\"dataframe\">\n",
              "  <thead>\n",
              "    <tr style=\"text-align: right;\">\n",
              "      <th></th>\n",
              "      <th>proportion</th>\n",
              "    </tr>\n",
              "    <tr>\n",
              "      <th>VendorID</th>\n",
              "      <th></th>\n",
              "    </tr>\n",
              "  </thead>\n",
              "  <tbody>\n",
              "    <tr>\n",
              "      <th>2</th>\n",
              "      <td>74.576813</td>\n",
              "    </tr>\n",
              "    <tr>\n",
              "      <th>1</th>\n",
              "      <td>25.409757</td>\n",
              "    </tr>\n",
              "    <tr>\n",
              "      <th>6</th>\n",
              "      <td>0.013430</td>\n",
              "    </tr>\n",
              "  </tbody>\n",
              "</table>\n",
              "</div><br><label><b>dtype:</b> float64</label>"
            ]
          },
          "metadata": {},
          "execution_count": 28
        }
      ],
      "source": [
        "trips.VendorID.value_counts(normalize=True)*100"
      ]
    },
    {
      "cell_type": "markdown",
      "metadata": {
        "id": "t0JNR6gSz_qc"
      },
      "source": [
        "Observamos que en los tres DataFrames aparece un valor no indicado en la [documentación](https://www.nyc.gov/assets/tlc/downloads/pdf/data_dictionary_trip_records_yellow.pdf),  correspondiente a \"VendorID == 6\".\n",
        "\n",
        "Este dato no está especificado en el estándar, por lo que lo descartaremos al considerarlo erróneo y de poco peso.\n",
        "\n",
        "\n",
        "\n"
      ]
    },
    {
      "cell_type": "code",
      "source": [
        "trips = trips.loc[trips.VendorID != 6,:]\n",
        "trips.VendorID.value_counts(normalize=True)*100"
      ],
      "metadata": {
        "id": "Sov8fImudXog",
        "outputId": "ccdfb1ee-4e65-4629-a74c-6460bf6f6824",
        "colab": {
          "base_uri": "https://localhost:8080/",
          "height": 178
        }
      },
      "execution_count": 49,
      "outputs": [
        {
          "output_type": "execute_result",
          "data": {
            "text/plain": [
              "VendorID\n",
              "2    74.58683\n",
              "1    25.41317\n",
              "Name: proportion, dtype: float64"
            ],
            "text/html": [
              "<div>\n",
              "<style scoped>\n",
              "    .dataframe tbody tr th:only-of-type {\n",
              "        vertical-align: middle;\n",
              "    }\n",
              "\n",
              "    .dataframe tbody tr th {\n",
              "        vertical-align: top;\n",
              "    }\n",
              "\n",
              "    .dataframe thead th {\n",
              "        text-align: right;\n",
              "    }\n",
              "</style>\n",
              "<table border=\"1\" class=\"dataframe\">\n",
              "  <thead>\n",
              "    <tr style=\"text-align: right;\">\n",
              "      <th></th>\n",
              "      <th>proportion</th>\n",
              "    </tr>\n",
              "    <tr>\n",
              "      <th>VendorID</th>\n",
              "      <th></th>\n",
              "    </tr>\n",
              "  </thead>\n",
              "  <tbody>\n",
              "    <tr>\n",
              "      <th>2</th>\n",
              "      <td>74.58683</td>\n",
              "    </tr>\n",
              "    <tr>\n",
              "      <th>1</th>\n",
              "      <td>25.41317</td>\n",
              "    </tr>\n",
              "  </tbody>\n",
              "</table>\n",
              "</div><br><label><b>dtype:</b> float64</label>"
            ]
          },
          "metadata": {},
          "execution_count": 49
        }
      ]
    },
    {
      "cell_type": "code",
      "source": [
        "labels = [\"LLC\",\"VerifiFone Inc\"]\n",
        "plt.pie(x=trips[\"VendorID\"].value_counts(normalize=True)*100,autopct='%1.2f%%',labels=labels)\n",
        "plt.title(\"% VendorID\")"
      ],
      "metadata": {
        "id": "ZI7drGExVrW1",
        "outputId": "97be0204-7fcc-4a7b-93d5-38d449f02ac9",
        "colab": {
          "base_uri": "https://localhost:8080/",
          "height": 445
        }
      },
      "execution_count": 50,
      "outputs": [
        {
          "output_type": "execute_result",
          "data": {
            "text/plain": [
              "Text(0.5, 1.0, '% VendorID')"
            ]
          },
          "metadata": {},
          "execution_count": 50
        },
        {
          "output_type": "display_data",
          "data": {
            "text/plain": [
              "<Figure size 640x480 with 1 Axes>"
            ],
            "image/png": "[encoded data removed]"
          },
          "metadata": {}
        }
      ]
    },
    {
      "cell_type": "markdown",
      "metadata": {
        "id": "28GbQsFwM_gV"
      },
      "source": [
        "#Passenger_count\n",
        "\n",
        "Se indica que el tipo de dato es float64, lo cual puede interpretarse como una variable continua. Sin embargo, esto es incorrecto, ya que no tendría sentido medio pasajero. Esta variable debe ser numérica, es decir, int32, estamos hablando de un conjunto numerable."
      ]
    },
    {
      "cell_type": "code",
      "source": [
        "trips[\"passenger_count\"].value_counts()"
      ],
      "metadata": {
        "id": "STxkByJye9uL",
        "outputId": "ced68447-1ed5-43b0-de31-82bc15635778",
        "colab": {
          "base_uri": "https://localhost:8080/",
          "height": 429
        }
      },
      "execution_count": 52,
      "outputs": [
        {
          "output_type": "execute_result",
          "data": {
            "text/plain": [
              "passenger_count\n",
              "1.0    7341790\n",
              "2.0    1505162\n",
              "3.0     368424\n",
              "4.0     224696\n",
              "0.0     130527\n",
              "5.0     123458\n",
              "6.0      76753\n",
              "8.0        105\n",
              "7.0         35\n",
              "9.0         10\n",
              "Name: count, dtype: int64"
            ],
            "text/html": [
              "<div>\n",
              "<style scoped>\n",
              "    .dataframe tbody tr th:only-of-type {\n",
              "        vertical-align: middle;\n",
              "    }\n",
              "\n",
              "    .dataframe tbody tr th {\n",
              "        vertical-align: top;\n",
              "    }\n",
              "\n",
              "    .dataframe thead th {\n",
              "        text-align: right;\n",
              "    }\n",
              "</style>\n",
              "<table border=\"1\" class=\"dataframe\">\n",
              "  <thead>\n",
              "    <tr style=\"text-align: right;\">\n",
              "      <th></th>\n",
              "      <th>count</th>\n",
              "    </tr>\n",
              "    <tr>\n",
              "      <th>passenger_count</th>\n",
              "      <th></th>\n",
              "    </tr>\n",
              "  </thead>\n",
              "  <tbody>\n",
              "    <tr>\n",
              "      <th>1.0</th>\n",
              "      <td>7341790</td>\n",
              "    </tr>\n",
              "    <tr>\n",
              "      <th>2.0</th>\n",
              "      <td>1505162</td>\n",
              "    </tr>\n",
              "    <tr>\n",
              "      <th>3.0</th>\n",
              "      <td>368424</td>\n",
              "    </tr>\n",
              "    <tr>\n",
              "      <th>4.0</th>\n",
              "      <td>224696</td>\n",
              "    </tr>\n",
              "    <tr>\n",
              "      <th>0.0</th>\n",
              "      <td>130527</td>\n",
              "    </tr>\n",
              "    <tr>\n",
              "      <th>5.0</th>\n",
              "      <td>123458</td>\n",
              "    </tr>\n",
              "    <tr>\n",
              "      <th>6.0</th>\n",
              "      <td>76753</td>\n",
              "    </tr>\n",
              "    <tr>\n",
              "      <th>8.0</th>\n",
              "      <td>105</td>\n",
              "    </tr>\n",
              "    <tr>\n",
              "      <th>7.0</th>\n",
              "      <td>35</td>\n",
              "    </tr>\n",
              "    <tr>\n",
              "      <th>9.0</th>\n",
              "      <td>10</td>\n",
              "    </tr>\n",
              "  </tbody>\n",
              "</table>\n",
              "</div><br><label><b>dtype:</b> int64</label>"
            ]
          },
          "metadata": {},
          "execution_count": 52
        }
      ]
    },
    {
      "cell_type": "code",
      "source": [
        "counts = trips[\"passenger_count\"].value_counts(normalize=True) * 100\n",
        "counts = counts.sort_index()\n",
        "\n",
        "plt.figure(figsize=(10, 6))\n",
        "sns.barplot(x=counts.index, y=counts.values, palette='viridis')\n",
        "\n",
        "plt.xlabel('Número de Pasajeros')\n",
        "plt.ylabel('Porcentaje (%)')\n",
        "plt.title('Distribución Porcentual de la Cantidad de Pasajeros')\n",
        "\n",
        "plt.show()"
      ],
      "metadata": {
        "id": "xqidW9glgF0b",
        "outputId": "9315da54-026e-4b5e-81e3-75bc15167057",
        "colab": {
          "base_uri": "https://localhost:8080/",
          "height": 661
        }
      },
      "execution_count": 61,
      "outputs": [
        {
          "output_type": "stream",
          "name": "stderr",
          "text": [
            "<ipython-input-61-f2f4a1d7a915>:6: FutureWarning: \n",
            "\n",
            "Passing `palette` without assigning `hue` is deprecated and will be removed in v0.14.0. Assign the `x` variable to `hue` and set `legend=False` for the same effect.\n",
            "\n",
            "  sns.barplot(x=counts.index, y=counts.values, palette='viridis')\n"
          ]
        },
        {
          "output_type": "display_data",
          "data": {
            "text/plain": [
              "<Figure size 1000x600 with 1 Axes>"
            ],
            "image/png": "[encoded data removed]"
          },
          "metadata": {}
        }
      ]
    },
    {
      "cell_type": "code",
      "source": [
        "trips[\"passenger_count\"].isna().value_counts(normalize=True) *100"
      ],
      "metadata": {
        "id": "XH07rGG2pbZL",
        "outputId": "76fe200e-ad48-452e-8348-31f1cf262d04",
        "colab": {
          "base_uri": "https://localhost:8080/",
          "height": 178
        }
      },
      "execution_count": 97,
      "outputs": [
        {
          "output_type": "execute_result",
          "data": {
            "text/plain": [
              "passenger_count\n",
              "False    95.445704\n",
              "True      4.554296\n",
              "Name: proportion, dtype: float64"
            ],
            "text/html": [
              "<div>\n",
              "<style scoped>\n",
              "    .dataframe tbody tr th:only-of-type {\n",
              "        vertical-align: middle;\n",
              "    }\n",
              "\n",
              "    .dataframe tbody tr th {\n",
              "        vertical-align: top;\n",
              "    }\n",
              "\n",
              "    .dataframe thead th {\n",
              "        text-align: right;\n",
              "    }\n",
              "</style>\n",
              "<table border=\"1\" class=\"dataframe\">\n",
              "  <thead>\n",
              "    <tr style=\"text-align: right;\">\n",
              "      <th></th>\n",
              "      <th>proportion</th>\n",
              "    </tr>\n",
              "    <tr>\n",
              "      <th>passenger_count</th>\n",
              "      <th></th>\n",
              "    </tr>\n",
              "  </thead>\n",
              "  <tbody>\n",
              "    <tr>\n",
              "      <th>False</th>\n",
              "      <td>95.445704</td>\n",
              "    </tr>\n",
              "    <tr>\n",
              "      <th>True</th>\n",
              "      <td>4.554296</td>\n",
              "    </tr>\n",
              "  </tbody>\n",
              "</table>\n",
              "</div><br><label><b>dtype:</b> float64</label>"
            ]
          },
          "metadata": {},
          "execution_count": 97
        }
      ]
    },
    {
      "cell_type": "code",
      "source": [
        "values = trips[\"passenger_count\"].isna().value_counts(normalize=True) * 100\n",
        "explode = (0, 0.5)\n",
        "\n",
        "labels = [\"Faltantes\" if x else \"Completos\" for x in values.index]\n",
        "\n",
        "fig, ax = plt.subplots()\n",
        "ax.pie(values, explode=explode, labels=labels, autopct='%1.1f%%',\n",
        "       shadow=True, startangle=270, colors=['gray', 'beige'])\n",
        "\n",
        "plt.title('Datos de Cantidad de Pasajeros\\n Completos')\n",
        "\n",
        "plt.show()"
      ],
      "metadata": {
        "id": "KuFiwAKxoz1B",
        "outputId": "dc3958cb-7edf-4aa9-a88b-7f4115d90369",
        "colab": {
          "base_uri": "https://localhost:8080/",
          "height": 506
        }
      },
      "execution_count": 135,
      "outputs": [
        {
          "output_type": "display_data",
          "data": {
            "text/plain": [
              "<Figure size 640x480 with 1 Axes>"
            ],
            "image/png": "[encoded data removed]"
          },
          "metadata": {}
        }
      ]
    },
    {
      "cell_type": "markdown",
      "metadata": {
        "id": "IfDclZYC1wUj"
      },
      "source": [
        "La cantidad de datos faltantes en el DataFrame en términos de porcentaje es menor al 5%, para trabajar con estos datos podemos tomar los siguientes caminos:\n",
        "  1. Eliminamos la fila completa que tiene un valor faltante (NaN)\n",
        "  2. Eliminamos la columna completa\n",
        "  3. Establecemos algún valor para esos valores que faltan (cero, la media, la mediana).\n",
        "\n",
        "Eliminar la columna completa no sería una opción buena, ya que para el contexto de viajes la cantidad de pasajeros es relevante, eliminando las filas que tienen un dato NaN si bien perdemos menos del 5% de la información antes de eliminar o establecer un valor, haremos un análisis en función de otras variables."
      ]
    },
    {
      "cell_type": "code",
      "source": [],
      "metadata": {
        "id": "QHR0n8te3MIv"
      },
      "execution_count": null,
      "outputs": []
    }
  ],
  "metadata": {
    "colab": {
      "provenance": [],
      "include_colab_link": true
    },
    "kernelspec": {
      "display_name": "Python 3",
      "name": "python3"
    },
    "language_info": {
      "name": "python"
    }
  },
  "nbformat": 4,
  "nbformat_minor": 0
}