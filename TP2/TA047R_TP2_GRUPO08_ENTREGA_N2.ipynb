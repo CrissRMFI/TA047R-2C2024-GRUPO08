{
  "nbformat": 4,
  "nbformat_minor": 0,
  "metadata": {
    "colab": {
      "provenance": [],
      "include_colab_link": true
    },
    "kernelspec": {
      "name": "python3",
      "display_name": "Python 3"
    },
    "language_info": {
      "name": "python"
    }
  },
  "cells": [
    {
      "cell_type": "markdown",
      "metadata": {
        "id": "view-in-github",
        "colab_type": "text"
      },
      "source": [
        "<a href=\"https://colab.research.google.com/github/CrissRMFI/TA047R-2C2024-GRUPO08/blob/main/TA047R_TP2_GRUPO08_ENTREGA_N2.ipynb\" target=\"_parent\"><img src=\"https://colab.research.google.com/assets/colab-badge.svg\" alt=\"Open In Colab\"/></a>"
      ]
    },
    {
      "cell_type": "code",
      "source": [
        "!pip install spacy"
      ],
      "metadata": {
        "colab": {
          "base_uri": "https://localhost:8080/"
        },
        "id": "TSouQe-zqSTX",
        "outputId": "c65850e2-9218-4f28-86c2-26acac33b659"
      },
      "execution_count": null,
      "outputs": [
        {
          "output_type": "stream",
          "name": "stdout",
          "text": [
            "Requirement already satisfied: spacy in /usr/local/lib/python3.10/dist-packages (3.7.5)\n",
            "Requirement already satisfied: spacy-legacy<3.1.0,>=3.0.11 in /usr/local/lib/python3.10/dist-packages (from spacy) (3.0.12)\n",
            "Requirement already satisfied: spacy-loggers<2.0.0,>=1.0.0 in /usr/local/lib/python3.10/dist-packages (from spacy) (1.0.5)\n",
            "Requirement already satisfied: murmurhash<1.1.0,>=0.28.0 in /usr/local/lib/python3.10/dist-packages (from spacy) (1.0.10)\n",
            "Requirement already satisfied: cymem<2.1.0,>=2.0.2 in /usr/local/lib/python3.10/dist-packages (from spacy) (2.0.8)\n",
            "Requirement already satisfied: preshed<3.1.0,>=3.0.2 in /usr/local/lib/python3.10/dist-packages (from spacy) (3.0.9)\n",
            "Requirement already satisfied: thinc<8.3.0,>=8.2.2 in /usr/local/lib/python3.10/dist-packages (from spacy) (8.2.5)\n",
            "Requirement already satisfied: wasabi<1.2.0,>=0.9.1 in /usr/local/lib/python3.10/dist-packages (from spacy) (1.1.3)\n",
            "Requirement already satisfied: srsly<3.0.0,>=2.4.3 in /usr/local/lib/python3.10/dist-packages (from spacy) (2.4.8)\n",
            "Requirement already satisfied: catalogue<2.1.0,>=2.0.6 in /usr/local/lib/python3.10/dist-packages (from spacy) (2.0.10)\n",
            "Requirement already satisfied: weasel<0.5.0,>=0.1.0 in /usr/local/lib/python3.10/dist-packages (from spacy) (0.4.1)\n",
            "Requirement already satisfied: typer<1.0.0,>=0.3.0 in /usr/local/lib/python3.10/dist-packages (from spacy) (0.13.0)\n",
            "Requirement already satisfied: tqdm<5.0.0,>=4.38.0 in /usr/local/lib/python3.10/dist-packages (from spacy) (4.66.6)\n",
            "Requirement already satisfied: requests<3.0.0,>=2.13.0 in /usr/local/lib/python3.10/dist-packages (from spacy) (2.32.3)\n",
            "Requirement already satisfied: pydantic!=1.8,!=1.8.1,<3.0.0,>=1.7.4 in /usr/local/lib/python3.10/dist-packages (from spacy) (2.9.2)\n",
            "Requirement already satisfied: jinja2 in /usr/local/lib/python3.10/dist-packages (from spacy) (3.1.4)\n",
            "Requirement already satisfied: setuptools in /usr/local/lib/python3.10/dist-packages (from spacy) (75.1.0)\n",
            "Requirement already satisfied: packaging>=20.0 in /usr/local/lib/python3.10/dist-packages (from spacy) (24.2)\n",
            "Requirement already satisfied: langcodes<4.0.0,>=3.2.0 in /usr/local/lib/python3.10/dist-packages (from spacy) (3.4.1)\n",
            "Requirement already satisfied: numpy>=1.19.0 in /usr/local/lib/python3.10/dist-packages (from spacy) (1.26.4)\n",
            "Requirement already satisfied: language-data>=1.2 in /usr/local/lib/python3.10/dist-packages (from langcodes<4.0.0,>=3.2.0->spacy) (1.2.0)\n",
            "Requirement already satisfied: annotated-types>=0.6.0 in /usr/local/lib/python3.10/dist-packages (from pydantic!=1.8,!=1.8.1,<3.0.0,>=1.7.4->spacy) (0.7.0)\n",
            "Requirement already satisfied: pydantic-core==2.23.4 in /usr/local/lib/python3.10/dist-packages (from pydantic!=1.8,!=1.8.1,<3.0.0,>=1.7.4->spacy) (2.23.4)\n",
            "Requirement already satisfied: typing-extensions>=4.6.1 in /usr/local/lib/python3.10/dist-packages (from pydantic!=1.8,!=1.8.1,<3.0.0,>=1.7.4->spacy) (4.12.2)\n",
            "Requirement already satisfied: charset-normalizer<4,>=2 in /usr/local/lib/python3.10/dist-packages (from requests<3.0.0,>=2.13.0->spacy) (3.4.0)\n",
            "Requirement already satisfied: idna<4,>=2.5 in /usr/local/lib/python3.10/dist-packages (from requests<3.0.0,>=2.13.0->spacy) (3.10)\n",
            "Requirement already satisfied: urllib3<3,>=1.21.1 in /usr/local/lib/python3.10/dist-packages (from requests<3.0.0,>=2.13.0->spacy) (2.2.3)\n",
            "Requirement already satisfied: certifi>=2017.4.17 in /usr/local/lib/python3.10/dist-packages (from requests<3.0.0,>=2.13.0->spacy) (2024.8.30)\n",
            "Requirement already satisfied: blis<0.8.0,>=0.7.8 in /usr/local/lib/python3.10/dist-packages (from thinc<8.3.0,>=8.2.2->spacy) (0.7.11)\n",
            "Requirement already satisfied: confection<1.0.0,>=0.0.1 in /usr/local/lib/python3.10/dist-packages (from thinc<8.3.0,>=8.2.2->spacy) (0.1.5)\n",
            "Requirement already satisfied: click>=8.0.0 in /usr/local/lib/python3.10/dist-packages (from typer<1.0.0,>=0.3.0->spacy) (8.1.7)\n",
            "Requirement already satisfied: shellingham>=1.3.0 in /usr/local/lib/python3.10/dist-packages (from typer<1.0.0,>=0.3.0->spacy) (1.5.4)\n",
            "Requirement already satisfied: rich>=10.11.0 in /usr/local/lib/python3.10/dist-packages (from typer<1.0.0,>=0.3.0->spacy) (13.9.4)\n",
            "Requirement already satisfied: cloudpathlib<1.0.0,>=0.7.0 in /usr/local/lib/python3.10/dist-packages (from weasel<0.5.0,>=0.1.0->spacy) (0.20.0)\n",
            "Requirement already satisfied: smart-open<8.0.0,>=5.2.1 in /usr/local/lib/python3.10/dist-packages (from weasel<0.5.0,>=0.1.0->spacy) (7.0.5)\n",
            "Requirement already satisfied: MarkupSafe>=2.0 in /usr/local/lib/python3.10/dist-packages (from jinja2->spacy) (3.0.2)\n",
            "Requirement already satisfied: marisa-trie>=0.7.7 in /usr/local/lib/python3.10/dist-packages (from language-data>=1.2->langcodes<4.0.0,>=3.2.0->spacy) (1.2.1)\n",
            "Requirement already satisfied: markdown-it-py>=2.2.0 in /usr/local/lib/python3.10/dist-packages (from rich>=10.11.0->typer<1.0.0,>=0.3.0->spacy) (3.0.0)\n",
            "Requirement already satisfied: pygments<3.0.0,>=2.13.0 in /usr/local/lib/python3.10/dist-packages (from rich>=10.11.0->typer<1.0.0,>=0.3.0->spacy) (2.18.0)\n",
            "Requirement already satisfied: wrapt in /usr/local/lib/python3.10/dist-packages (from smart-open<8.0.0,>=5.2.1->weasel<0.5.0,>=0.1.0->spacy) (1.16.0)\n",
            "Requirement already satisfied: mdurl~=0.1 in /usr/local/lib/python3.10/dist-packages (from markdown-it-py>=2.2.0->rich>=10.11.0->typer<1.0.0,>=0.3.0->spacy) (0.1.2)\n"
          ]
        }
      ]
    },
    {
      "cell_type": "code",
      "execution_count": null,
      "metadata": {
        "id": "kYa-jXTcrhWd"
      },
      "outputs": [],
      "source": [
        "import pandas as pd\n",
        "import nltk\n",
        "from nltk import sent_tokenize\n",
        "from sklearn.preprocessing import LabelEncoder\n",
        "import numpy as np\n",
        "import seaborn as sns\n",
        "from sklearn.feature_extraction.text import CountVectorizer"
      ]
    },
    {
      "cell_type": "code",
      "source": [
        "sns.set(style=\"whitegrid\")"
      ],
      "metadata": {
        "id": "o6roEae_VSR6"
      },
      "execution_count": null,
      "outputs": []
    },
    {
      "cell_type": "code",
      "source": [
        "train_set = pd.read_csv('train.csv')\n",
        "test_set = pd.read_csv('test.csv')"
      ],
      "metadata": {
        "id": "E2stSQExr5Zi"
      },
      "execution_count": null,
      "outputs": []
    },
    {
      "cell_type": "code",
      "source": [
        "import spacy\n",
        "nlp = spacy.load('en_core_web_sm')"
      ],
      "metadata": {
        "id": "gKmYIK2OyuR2"
      },
      "execution_count": null,
      "outputs": []
    },
    {
      "cell_type": "code",
      "source": [
        "nltk.download('punkt')"
      ],
      "metadata": {
        "colab": {
          "base_uri": "https://localhost:8080/"
        },
        "id": "Ye6flZI6CFUG",
        "outputId": "7e02b3da-8f80-4b4a-b9ad-7fd22dc2098b"
      },
      "execution_count": null,
      "outputs": [
        {
          "output_type": "stream",
          "name": "stderr",
          "text": [
            "[nltk_data] Downloading package punkt to /root/nltk_data...\n",
            "[nltk_data]   Package punkt is already up-to-date!\n"
          ]
        },
        {
          "output_type": "execute_result",
          "data": {
            "text/plain": [
              "True"
            ]
          },
          "metadata": {},
          "execution_count": 21
        }
      ]
    },
    {
      "cell_type": "markdown",
      "source": [
        "# Pre - Procesamiento"
      ],
      "metadata": {
        "id": "-Xwmxelx0E8p"
      }
    },
    {
      "cell_type": "markdown",
      "source": [
        "### Separo los datos en variables de entrada y etiquetas"
      ],
      "metadata": {
        "id": "O5RFwnWdsexI"
      }
    },
    {
      "cell_type": "code",
      "source": [
        "X_train_title = train_set['title']\n",
        "X_train_description = train_set['description']\n",
        "X_train_project = train_set['project']\n",
        "Y_train_point = train_set['storypoint']"
      ],
      "metadata": {
        "id": "Kn9k6oDrseTi"
      },
      "execution_count": null,
      "outputs": []
    },
    {
      "cell_type": "code",
      "source": [
        "label_encoder = LabelEncoder()\n",
        "train_set['project-encoder'] = label_encoder.fit_transform(train_set['project']).reshape(-1, 1)\n",
        "test_set['project-encoder'] = label_encoder.fit_transform(test_set['project']).reshape(-1, 1)"
      ],
      "metadata": {
        "id": "Di4GGBo_r4Z1"
      },
      "execution_count": null,
      "outputs": []
    },
    {
      "cell_type": "code",
      "source": [
        "import matplotlib.pyplot as plt\n",
        "\n",
        "plt.figure(figsize=(8, 4))\n",
        "sns.countplot(data=train_set,x='storypoint')\n",
        "plt.xlabel('StoryPoint')\n",
        "plt.ylabel('Frecuencia')\n",
        "plt.title('Distribucion de Storypoint')\n",
        "plt.legend()\n",
        "plt.show()"
      ],
      "metadata": {
        "colab": {
          "base_uri": "https://localhost:8080/",
          "height": 457
        },
        "id": "k8ejC40a39Jm",
        "outputId": "714c8f24-c0c9-41c3-dc41-20ee4262dec1"
      },
      "execution_count": null,
      "outputs": [
        {
          "output_type": "stream",
          "name": "stderr",
          "text": [
            "WARNING:matplotlib.legend:No artists with labels found to put in legend.  Note that artists whose label start with an underscore are ignored when legend() is called with no argument.\n"
          ]
        },
        {
          "output_type": "display_data",
          "data": {
            "text/plain": [
              "<Figure size 800x400 with 1 Axes>"
            ],
            "image/png": "[encoded data removed]"
          },
          "metadata": {}
        }
      ]
    },
    {
      "cell_type": "markdown",
      "source": [
        "### Mostramos un sample de algunas descripciones, titulos y storypoint"
      ],
      "metadata": {
        "id": "4XJHLB6S6z3Z"
      }
    },
    {
      "cell_type": "code",
      "source": [
        "sample_train = train_set.sample(n=10)\n",
        "\n",
        "for _, row in sample_train.iterrows():\n",
        "    print(\"\\033[1m\"+\"Título:\\n\"+\"\\033[0m\", row[\"title\"])\n",
        "    print(\"\\033[1m\"+\"Descripción:\\n\"+\"\\033[0m\", row[\"description\"])\n",
        "    print(\"\\033[1m\"+ \"Storypoint: \" , row[\"storypoint\"] )\n",
        "    print(\"\\n\" + \"-\"*30 + \"\\n\")\n"
      ],
      "metadata": {
        "colab": {
          "base_uri": "https://localhost:8080/"
        },
        "id": "D6M0mny07d5V",
        "outputId": "dd5abd11-a23e-4052-c11e-0f445290ee48"
      },
      "execution_count": null,
      "outputs": [
        {
          "output_type": "stream",
          "name": "stdout",
          "text": [
            "\u001b[1mTítulo:\n",
            "\u001b[0m Port mapping isolator should cleanup unknown orphan containers after all known orphan containers are recovered during recovery.\n",
            "\u001b[1mDescripción:\n",
            "\u001b[0m Otherwise, the icmp/arp filter on host eth0 might be removed as a result of _cleanup if 'infos' is empty, causing subsequent '_cleanup' to fail on both known/unknown orphan containers.    {noformat}  I0612 17:46:51.518501 16308 containerizer.cpp:314] Recovering containerizer  I0612 17:46:51.520612 16308 port_mapping.cpp:1567] Discovered network namespace handle symlink ddcb8397-3552-44f9-bc99-b5b69aa72944 -> 31607  I0612 17:46:51.521183 16308 port_mapping.cpp:1567] Discovered network namespace handle symlink d8c48a4a-fdfb-47dd-b8d8-07188c21600d -> 41020  I0612 17:46:51.521883 16308 port_mapping.cpp:1567] Discovered network namespace handle symlink 8953fc7f-9fca-4931-b0cb-2f4959ddee74 -> 3302  I0612 17:46:51.522542 16308 port_mapping.cpp:1567] Discovered network namespace handle symlink 50f9986f-ebbc-440d-86a7-9fa1a7c55a75 -> 19805  I0612 17:46:51.523643 16308 port_mapping.cpp:2597] Removing IP packet filters with ports [33792,34815] for container with pid 52304  I0612 17:46:51.525063 16308 port_mapping.cpp:2616] Freed ephemeral ports [33792,34816) for container with pid 52304  I0612 17:46:51.547696 16308 port_mapping.cpp:2762] Successfully performed cleanup for pid 52304  I0612 17:46:51.550027 16308 port_mapping.cpp:1698] Network isolator recovery complete  I0612 17:46:51.550946 16329 containerizer.cpp:449] Removing orphan container 111ea69c-6184-4da1-a0e9-c34e8c6deb30  I0612 17:46:51.552686 16329 containerizer.cpp:449] Removing orphan container ddcb8397-3552-44f9-bc99-b5b69aa72944  I0612 17:46:51.552734 16309 cgroups.cpp:2377] Freezing cgroup /sys/fs/cgroup/freezer/mesos/111ea69c-6184-4da1-a0e9-c34e8c6deb30  I0612 17:46:51.554932 16329 containerizer.cpp:449] Removing orphan container 8953fc7f-9fca-4931-b0cb-2f4959ddee74  I0612 17:46:51.555032 16309 cgroups.cpp:2377] Freezing cgroup /sys/fs/cgroup/freezer/mesos/ddcb8397-3552-44f9-bc99-b5b69aa72944  I0612 17:46:51.555629 16308 cgroups.cpp:1420] Successfully froze cgroup /sys/fs/cgroup/freezer/mesos/111ea69c-6184-4da1-a0e9-c34e8c6deb30 after 1.730304ms  I0612 17:46:51.557507 16329 containerizer.cpp:449] Removing orphan container 50f9986f-ebbc-440d-86a7-9fa1a7c55a75  I0612 17:46:51.557611 16309 cgroups.cpp:2377] Freezing cgroup /sys/fs/cgroup/freezer/mesos/8953fc7f-9fca-4931-b0cb-2f4959ddee74  I0612 17:46:51.557896 16313 cgroups.cpp:1420] Successfully froze cgroup /sys/fs/cgroup/freezer/mesos/ddcb8397-3552-44f9-bc99-b5b69aa72944 after 1.685248ms  I0612 17:46:51.559412 16310 cgroups.cpp:2394] Thawing cgroup /sys/fs/cgroup/freezer/mesos/111ea69c-6184-4da1-a0e9-c34e8c6deb30  I0612 17:46:51.561564 16329 containerizer.cpp:449] Removing orphan container d8c48a4a-fdfb-47dd-b8d8-07188c21600d  I0612 17:46:51.562489 16315 cgroups.cpp:2377] Freezing cgroup /sys/fs/cgroup/freezer/mesos/50f9986f-ebbc-440d-86a7-9fa1a7c55a75  I0612 17:46:51.562988 16313 cgroups.cpp:2394] Thawing cgroup /sys/fs/cgroup/freezer/mesos/ddcb8397-3552-44f9-bc99-b5b69aa72944  I0612 17:46:51.563303 16310 cgroups.cpp:1449] Successfullly thawed cgroup /sys/fs/cgroup/freezer/mesos/111ea69c-6184-4da1-a0e9-c34e8c6deb30 after 2.076928ms  I0612 17:46:51.566052 16308 cgroups.cpp:2377] Freezing cgroup /sys/fs/cgroup/freezer/mesos/d8c48a4a-fdfb-47dd-b8d8-07188c21600d  I0612 17:46:51.566102 16313 slave.cpp:3911] Finished recovery  W0612 17:46:51.566432 16323 disk.cpp:299] Ignoring cleanup for unknown container 111ea69c-6184-4da1-a0e9-c34e8c6deb30  I0612 17:46:51.566651 16317 cgroups.cpp:1449] Successfullly thawed cgroup /sys/fs/cgroup/freezer/mesos/ddcb8397-3552-44f9-bc99-b5b69aa72944 after 2.12096ms  I0612 17:46:51.566987 16313 slave.cpp:3944] Garbage collecting old slave 20150319-213133-2080910346-5050-57551-S3314  I0612 17:46:51.567777 16318 cgroups.cpp:1420] Successfully froze cgroup /sys/fs/cgroup/freezer/mesos/d8c48a4a-fdfb-47dd-b8d8-07188c21600d after 1.323008ms  W0612 17:46:51.568042 16323 port_mapping.cpp:2544] Ignoring cleanup for unknown container 111ea69c-6184-4da1-a0e9-c34e8c6deb30  I0612 17:46:51.569522 16311 gc.cpp:56] Scheduling '/var/lib/mesos/slaves/20150319-213133-2080910346-5050-57551-S3314' for gc 6.99999341503407days in the future  W0612 17:46:51.569725 16329 disk.cpp:299] Ignoring cleanup for unknown container ddcb8397-3552-44f9-bc99-b5b69aa72944  I0612 17:46:51.570911 16325 cgroups.cpp:2394] Thawing cgroup /sys/fs/cgroup/freezer/mesos/d8c48a4a-fdfb-47dd-b8d8-07188c21600d  I0612 17:46:51.573581 16316 port_mapping.cpp:2597] Removing IP packet filters with ports [35840,36863] for container with pid 31607  I0612 17:46:51.575127 16316 port_mapping.cpp:2616] Freed ephemeral ports [35840,36864) for container with pid 31607  I0612 17:46:51.588284 16330 cgroups.cpp:1449] Successfullly thawed cgroup /sys/fs/cgroup/freezer/mesos/d8c48a4a-fdfb-47dd-b8d8-07188c21600d after 14.503936ms  E0612 17:46:51.622140 16310 containerizer.cpp:480] Failed to clean up an isolator when destroying orphan container ddcb8397-3552-44f9-bc99-b5b69aa72944: The ICMP packet filter on host eth0 does not exist, The ARP packet filter on host eth0 does not exist  W0612 17:46:51.773123 16313 disk.cpp:299] Ignoring cleanup for unknown container d8c48a4a-fdfb-47dd-b8d8-07188c21600d  I0612 17:46:51.774153 16325 port_mapping.cpp:2597] Removing IP packet filters with ports [32768,33791] for container with pid 41020  I0612 17:46:51.775167 16325 port_mapping.cpp:2616] Freed ephemeral ports [32768,33792) for container with pid 41020  E0612 17:46:51.817221 16323 containerizer.cpp:480] Failed to clean up an isolator when destroying orphan container d8c48a4a-fdfb-47dd-b8d8-07188c21600d: The ICMP packet filter on host eth0 does not exist, The ARP packet filter on host eth0 does not exist  I0612 17:46:51.872231 16314 cgroups.cpp:1420] Successfully froze cgroup /sys/fs/cgroup/freezer/mesos/50f9986f-ebbc-440d-86a7-9fa1a7c55a75 after 308.33792ms  I0612 17:46:51.874572 16314 cgroups.cpp:2394] Thawing cgroup /sys/fs/cgroup/freezer/mesos/50f9986f-ebbc-440d-86a7-9fa1a7c55a75  I0612 17:46:51.876566 16314 cgroups.cpp:1449] Successfullly thawed cgroup /sys/fs/cgroup/freezer/mesos/50f9986f-ebbc-440d-86a7-9fa1a7c55a75 after 1.593344ms  2015-06-12 17:46:54,833:16307(0x7f172eb07940):ZOO_INFO@auth_completion_func@1286: Authentication scheme digest succeeded  I0612 17:46:54.835737 16321 group.cpp:385] Trying to create path '/home/mesos/prod/master' in ZooKeeper  I0612 17:46:54.839110 16321 detector.cpp:138] Detected a new leader: (id='1')  I0612 17:46:54.840276 16330 group.cpp:659] Trying to get '/home/mesos/prod/master/info_0000000001' in ZooKeeper  I0612 17:46:54.842350 16330 detector.cpp:452] A new leading master (UPID=master@10.44.14.132:5050) is detected  I0612 17:46:54.843297 16330 slave.cpp:653] New master detected at master@10.44.14.132:5050  I0612 17:46:54.843298 16312 status_update_manager.cpp:171] Pausing sending status updates  I0612 17:46:54.844091 16330 slave.cpp:678] No credentials provided. Attempting to register without authentication  I0612 17:46:54.845087 16330 slave.cpp:689] Detecting new master  I0612 17:47:01.561920 16309 cgroups.cpp:2394] Thawing cgroup /sys/fs/cgroup/freezer/mesos/8953fc7f-9fca-4931-b0cb-2f4959ddee74  I0612 17:47:01.564687 16309 cgroups.cpp:1449] Successfullly thawed cgroup /sys/fs/cgroup/freezer/mesos/8953fc7f-9fca-4931-b0cb-2f4959ddee74 after 1.924096ms  I0612 17:47:01.565467 16309 cgroups.cpp:2377] Freezing cgroup /sys/fs/cgroup/freezer/mesos/8953fc7f-9fca-4931-b0cb-2f4959ddee74  W0612 17:47:09.978946 16326 disk.cpp:299] Ignoring cleanup for unknown container 50f9986f-ebbc-440d-86a7-9fa1a7c55a75  I0612 17:47:09.979818 16327 port_mapping.cpp:2597] Removing IP packet filters with ports [34816,35839] for container with pid 19805  I0612 17:47:09.981474 16327 port_mapping.cpp:2616] Freed ephemeral ports [34816,35840) for container with pid 19805  E0612 17:47:10.278715 16325 containerizer.cpp:480] Failed to clean up an isolator when destroying orphan container 50f9986f-ebbc-440d-86a7-9fa1a7c55a75: The ICMP packet filter on host eth0 does not exist, The ARP packet filter on host eth0 does not exist  I0612 17:47:11.568151 16326 cgroups.cpp:2394] Thawing cgroup /sys/fs/cgroup/freezer/mesos/8953fc7f-9fca-4931-b0cb-2f4959ddee74  I0612 17:47:11.570915 16326 cgroups.cpp:1449] Successfullly thawed cgroup /sys/fs/cgroup/freezer/mesos/8953fc7f-9fca-4931-b0cb-2f4959ddee74 after 1.987072ms  I0612 17:47:11.571728 16326 cgroups.cpp:2377] Freezing cgroup /sys/fs/cgroup/freezer/mesos/8953fc7f-9fca-4931-b0cb-2f4959ddee74  I0612 17:47:14.549536 16316 slave.cpp:821] Registered with master master@10.44.14.132:5050; given slave ID 20150602-190100-2215521290-5050-39399-S23257  I0612 17:47:14.550220 16318 status_update_manager.cpp:178] Resuming sending status updates  I0612 17:47:21.574513 16319 cgroups.cpp:2394] Thawing cgroup /sys/fs/cgroup/freezer/mesos/8953fc7f-9fca-4931-b0cb-2f4959ddee74  I0612 17:47:21.576817 16319 cgroups.cpp:1449] Successfullly thawed cgroup /sys/fs/cgroup/freezer/mesos/8953fc7f-9fca-4931-b0cb-2f4959ddee74 after 1.587968ms  I0612 17:47:21.577466 16319 cgroups.cpp:2377] Freezing cgroup /sys/fs/cgroup/freezer/mesos/8953fc7f-9fca-4931-b0cb-2f4959ddee74  I0612 17:47:31.580281 16310 cgroups.cpp:2394] Thawing cgroup /sys/fs/cgroup/freezer/mesos/8953fc7f-9fca-4931-b0cb-2f4959ddee74  I0612 17:47:31.582365 16310 cgroups.cpp:1449] Successfullly thawed cgroup /sys/fs/cgroup/freezer/mesos/8953fc7f-9fca-4931-b0cb-2f4959ddee74 after 1.410048ms  I0612 17:47:31.582895 16310 cgroups.cpp:2377] Freezing cgroup /sys/fs/cgroup/freezer/mesos/8953fc7f-9fca-4931-b0cb-2f4959ddee74  I0612 17:47:41.585619 16322 cgroups.cpp:2394] Thawing cgroup /sys/fs/cgroup/freezer/mesos/8953fc7f-9fca-4931-b0cb-2f4959ddee74  I0612 17:47:41.587703 16322 cgroups.cpp:1449] Successfullly thawed cgroup /sys/fs/cgroup/freezer/mesos/8953fc7f-9fca-4931-b0cb-2f4959ddee74 after 1.418752ms  I0612 17:47:41.588436 16322 cgroups.cpp:2377] Freezing cgroup /sys/fs/cgroup/freezer/mesos/8953fc7f-9fca-4931-b0cb-2f4959ddee74  I0612 17:47:51.515689 16330 slave.cpp:3733] Current disk usage 11.43%. Max allowed age: 5.499938588861215days  E0612 17:47:51.557831 16330 containerizer.cpp:468] Failed to destroy orphan container 8953fc7f-9fca-4931-b0cb-2f4959ddee74: Timed out after 1mins  {noformat}\n",
            "\u001b[1mStorypoint:  3\n",
            "\n",
            "------------------------------\n",
            "\n",
            "\u001b[1mTítulo:\n",
            "\u001b[0m HookTest.VerifySlaveLaunchExecutorHook is slow.\n",
            "\u001b[1mDescripción:\n",
            "\u001b[0m The {{HookTest.VerifySlaveLaunchExecutorHook}} test takes more than {{5s}} to finish on my Mac OS 10.10.4:  {code}  HookTest.VerifySlaveLaunchExecutorHook (5061 ms)  {code}\n",
            "\u001b[1mStorypoint:  1\n",
            "\n",
            "------------------------------\n",
            "\n",
            "\u001b[1mTítulo:\n",
            "\u001b[0m Identify and implement test cases for handling a race between optimistic lender and tenant offers.\n",
            "\u001b[1mDescripción:\n",
            "\u001b[0m An example is the when lender launches the task on an agent followed by a  borrower launching a task on the same agent before the optimistic offer is rescinded. \n",
            "\u001b[1mStorypoint:  13\n",
            "\n",
            "------------------------------\n",
            "\n",
            "\u001b[1mTítulo:\n",
            "\u001b[0m ContainerInfo::Image::AppC::id should be optional\n",
            "\u001b[1mDescripción:\n",
            "\u001b[0m As I commented here: https://reviews.apache.org/r/34136/    Currently ContainerInfo::Image::Appc is defined as the following    {noformat:title=}      message AppC {        required string name = 1;        required string id = 2;        optional Labels labels = 3;      }  {noformat}    In which the {{id}} is a required field. When users specify the image in tasks they likely will not use an image id (much like when you use docker or rkt to launch containers, you often use {{ubuntu}} or {{ubuntu:latest}} and seldom a SHA512 ID) and we should change it to be optional.    The motivating scenario is that: if the frameworks in the Mesos use something like {{image=ubuntu:14.04\"}} to run a task and {{image=ubuntu}} defaults to {{image=ubuntu:latest}}, the operator can swap the latest version for all new tasks requesting {{image=ubuntu}}. If they allow users to specify {{image=ubuntu:live}}, they can swap the live version under the covers as well. This allows the operator to release important image updates (e.g., security patches) and have it picked up by new tasks in the cluster without asking the users to update their job/task configs.\n",
            "\u001b[1mStorypoint:  1\n",
            "\n",
            "------------------------------\n",
            "\n",
            "\u001b[1mTítulo:\n",
            "\u001b[0m Cannot create collections due to new App Delete feature\n",
            "\u001b[1mDescripción:\n",
            "\u001b[0m error_description: \"Cannot restore. Deleted Application not found: 7a7624db-bc61-11e4-a2af-12b4f5e28868\" exception: \"org.apache.usergrid.persistence.exceptions.EntityNotFoundException\"    seems like the app restore is intercepting the path that is used to create collections from the UI    Request URL:https://example.com/appservices/apigee-jwest/sandbox/?access_token=YWMtefpnELx7EeSlLXug...    or the UI isn't right\n",
            "\u001b[1mStorypoint:  3\n",
            "\n",
            "------------------------------\n",
            "\n",
            "\u001b[1mTítulo:\n",
            "\u001b[0m cMQConnectionFactory have no fields for authentication parameters if MQ Server = MQTT\n",
            "\u001b[1mDescripción:\n",
            "\u001b[0m If in component cMQConnectionFactory the MQ Server = MQTT user can't set authentication userName and password.  When authentication parameters is added, the demo project MQ routes have to be improved to work with authentication. It is important when demo routes run on activeMQ installed in TESB container.\n",
            "\u001b[1mStorypoint:  1\n",
            "\n",
            "------------------------------\n",
            "\n",
            "\u001b[1mTítulo:\n",
            "\u001b[0m Hierarchical allocator performance is slow due to Quota\n",
            "\u001b[1mDescripción:\n",
            "\u001b[0m Since we do not strip the non-scalar resources during the resource arithmetic for quota, the performance can degrade significantly, as currently resource arithmetic is expensive.    One approach to resolving this is to filter the resources we use to perform this arithmetic to only use scalars. This is valid as quota can currently only be set for scalar resource types.\n",
            "\u001b[1mStorypoint:  3\n",
            "\n",
            "------------------------------\n",
            "\n",
            "\u001b[1mTítulo:\n",
            "\u001b[0m Switch to use Lettuce driver for Redis\n",
            "\u001b[1mDescripción:\n",
            "\u001b[0m Replace the use of Jedis with Lettuce as it has higher performance\n",
            "\u001b[1mStorypoint:  2\n",
            "\n",
            "------------------------------\n",
            "\n",
            "\u001b[1mTítulo:\n",
            "\u001b[0m Handle a temporary one-way master --> slave socket closure.\n",
            "\u001b[1mDescripción:\n",
            "\u001b[0m In MESOS-1529, we realized that it's possible for a slave to remain disconnected in the master if the following occurs:    → Master and Slave connected operating normally.  → Temporary one-way network failure, master→slave link breaks.  → Master marks slave as disconnected.  → Network restored and health checking continues normally, slave is not removed as a result. Slave does not attempt to re-register since it is receiving pings once again.  → Slave remains disconnected according to the master, and the slave does not try to re-register. Bad!    We were originally thinking of using a failover timeout in the master to remove these slaves that don't re-register. However, it can be dangerous when ZooKeeper issues are preventing the slave from re-registering with the master; we do not want to remove a ton of slaves in this situation.    Rather, when the slave is health checking correctly but does not re-register within a timeout, we could send a registration request from the master to the slave, telling the slave that it must re-register. This message could also be used when receiving status updates (or other messages) from slaves that are disconnected in the master.\n",
            "\u001b[1mStorypoint:  2\n",
            "\n",
            "------------------------------\n",
            "\n",
            "\u001b[1mTítulo:\n",
            "\u001b[0m Mesos command task doesn't support volumes with image\n",
            "\u001b[1mDescripción:\n",
            "\u001b[0m Currently volumes are stripped when an image is specified running a command task with Mesos containerizer. \n",
            "\u001b[1mStorypoint:  3\n",
            "\n",
            "------------------------------\n",
            "\n"
          ]
        }
      ]
    },
    {
      "cell_type": "markdown",
      "source": [
        "### Eliminamos nombres de rutas y librerias"
      ],
      "metadata": {
        "id": "sDmWCLb5JMrC"
      }
    },
    {
      "cell_type": "code",
      "source": [
        "import re\n",
        "\n",
        "def clean_description(description):\n",
        "    # Eliminar rutas de archivos y librerías\n",
        "    description = re.sub(r'(/[\\w./-]+)|([a-zA-Z]:\\\\[\\w.\\\\-]+)', ' ', description)\n",
        "    # Eliminar URLs\n",
        "    description = re.sub(r'http[s]?://\\S+', ' ', description)\n",
        "    # Eliminar líneas de código (sencillas)\n",
        "    description = re.sub(r'^\\s*\\$.*$', ' ', description, flags=re.MULTILINE)\n",
        "    description = re.sub(r'^\\s*#.*$', ' ', description, flags=re.MULTILINE)\n",
        "    description = re.sub(r'`[^`]+`', ' ', description)\n",
        "    # Eliminar caracteres especiales\n",
        "    description = re.sub(r'[^a-zA-Z0-9\\s]', ' ', description)  # Mantener solo letras, números y espacios\n",
        "    # Opcional: Eliminar múltiples espacios en blanco\n",
        "    description = re.sub(r'\\s+', ' ', description).strip()  # Reemplazar múltiples espacios con uno solo y eliminar espacios al inicio y fin\n",
        "    return description\n"
      ],
      "metadata": {
        "id": "9zYjJ7EQJUUH"
      },
      "execution_count": null,
      "outputs": []
    },
    {
      "cell_type": "code",
      "source": [
        "train_set['description'] = train_set['description'].map(lambda x: clean_description(x))\n",
        "train_set['title'] = train_set['title'].map(lambda x: clean_description(x))\n",
        "test_set['description'] = test_set['description'].map(lambda x: clean_description(x))\n",
        "test_set['title'] = test_set['title'].map(lambda x: clean_description(x))"
      ],
      "metadata": {
        "id": "iK0j_-8HKDhr"
      },
      "execution_count": null,
      "outputs": []
    },
    {
      "cell_type": "markdown",
      "source": [
        "## Tokenizamaos por palabras"
      ],
      "metadata": {
        "id": "cxzCIRgkqZiI"
      }
    },
    {
      "cell_type": "markdown",
      "source": [
        "## Tokenizacion - NLTK - Stop Words"
      ],
      "metadata": {
        "id": "a7vAqeL4zADR"
      }
    },
    {
      "cell_type": "code",
      "source": [
        "from nltk.corpus import stopwords\n",
        "nltk.download('stopwords')\n",
        "stop_words = set(stopwords.words('english'))"
      ],
      "metadata": {
        "colab": {
          "base_uri": "https://localhost:8080/"
        },
        "id": "Pn4hzQ6azXBg",
        "outputId": "be0b2ed4-3a44-4c36-d97a-8290af3f87b8"
      },
      "execution_count": null,
      "outputs": [
        {
          "output_type": "stream",
          "name": "stderr",
          "text": [
            "[nltk_data] Downloading package stopwords to /root/nltk_data...\n",
            "[nltk_data]   Package stopwords is already up-to-date!\n"
          ]
        }
      ]
    },
    {
      "cell_type": "code",
      "source": [
        "def tokenize_and_remove_stopwords(text):\n",
        "    tokens = nltk.word_tokenize(text)\n",
        "    filtered_tokens = [token for token in tokens if token.lower() not in stop_words]\n",
        "    return filtered_tokens"
      ],
      "metadata": {
        "id": "8glULOgVzh4Z"
      },
      "execution_count": null,
      "outputs": []
    },
    {
      "cell_type": "code",
      "source": [
        "import nltk\n",
        "nltk.download('punkt_tab')"
      ],
      "metadata": {
        "colab": {
          "base_uri": "https://localhost:8080/"
        },
        "id": "hym5gUykGlPS",
        "outputId": "a0850025-b377-43c9-fc6a-218a40bdc764"
      },
      "execution_count": null,
      "outputs": [
        {
          "output_type": "stream",
          "name": "stderr",
          "text": [
            "[nltk_data] Downloading package punkt_tab to /root/nltk_data...\n",
            "[nltk_data]   Unzipping tokenizers/punkt_tab.zip.\n"
          ]
        },
        {
          "output_type": "execute_result",
          "data": {
            "text/plain": [
              "True"
            ]
          },
          "metadata": {},
          "execution_count": 30
        }
      ]
    },
    {
      "cell_type": "code",
      "source": [
        "model_word_tokenize = train_set.copy(deep=True)\n",
        "tokens_title = model_word_tokenize['title'].map(lambda x: tokenize_and_remove_stopwords(x))\n",
        "tokens_description = model_word_tokenize['description'].map(lambda x: tokenize_and_remove_stopwords(x))\n",
        "mean_len_token_title = model_word_tokenize['title'].map(lambda x: np.mean([len(token) for token in tokenize_and_remove_stopwords(x)]))\n",
        "mean_len_token_description = model_word_tokenize['description'].map(lambda x: np.mean([len(token) for token in tokenize_and_remove_stopwords(x)]))\n"
      ],
      "metadata": {
        "colab": {
          "base_uri": "https://localhost:8080/"
        },
        "id": "Soq40cFqNqxc",
        "outputId": "5d057d44-b4a4-4320-ebdd-9c88de0f1af4"
      },
      "execution_count": null,
      "outputs": [
        {
          "output_type": "stream",
          "name": "stderr",
          "text": [
            "/usr/local/lib/python3.10/dist-packages/numpy/core/fromnumeric.py:3504: RuntimeWarning: Mean of empty slice.\n",
            "  return _methods._mean(a, axis=axis, dtype=dtype,\n",
            "/usr/local/lib/python3.10/dist-packages/numpy/core/_methods.py:129: RuntimeWarning: invalid value encountered in scalar divide\n",
            "  ret = ret.dtype.type(ret / rcount)\n"
          ]
        }
      ]
    },
    {
      "cell_type": "code",
      "source": [
        "sample_df = model_word_tokenize.sample(10)\n",
        "\n",
        "for _, row in sample_df.iterrows():\n",
        "    print(\"\\033[1m\" + \"Título:\\n\", row[\"title\"])\n",
        "    print(\"Descripción:\\n\", row[\"description\"])\n",
        "    print( \"Storypoint: \", row[\"storypoint\"])\n",
        "    print(\"\\n\" + \"-\"*30 + \"\\n\")"
      ],
      "metadata": {
        "colab": {
          "base_uri": "https://localhost:8080/"
        },
        "id": "hE8U19qwOltL",
        "outputId": "d68e1910-b5b4-424f-ab57-352fcd822d97"
      },
      "execution_count": null,
      "outputs": [
        {
          "output_type": "stream",
          "name": "stdout",
          "text": [
            "\u001b[1mTítulo:\n",
            " Documentation for reactor ip source has conflicting information\n",
            "Descripción:\n",
            " According to the documentation at http reactor ip one of the options available for this source is transport It s listed as having no default but the sample definition doesn t provide it yet appears to default to tcp The two should match up It might also be useful if the possible values for transport were listed I assume TCP and UDP\n",
            "Storypoint:  1\n",
            "\n",
            "------------------------------\n",
            "\n",
            "\u001b[1mTítulo:\n",
            " Update JDK version included in Studio installer to JDK7\n",
            "Descripción:\n",
            " We currently include JDK6 in Studio installer Since we confirmed Studio and SDK work with JDK7 we should update the version\n",
            "Storypoint:  5\n",
            "\n",
            "------------------------------\n",
            "\n",
            "\u001b[1mTítulo:\n",
            " Design the UI for the Mac OSX installer\n",
            "Descripción:\n",
            " Added an image of Xamarin installer and a screenshot from OSX Installer wiki page for a couple of examples of installer look and feel on Mac The bullet points for us would include something similar license prerequisites Node destination installation and summary\n",
            "Storypoint:  5\n",
            "\n",
            "------------------------------\n",
            "\n",
            "\u001b[1mTítulo:\n",
            " Container does not fail if sharing same ports on same machine with another container\n",
            "Descripción:\n",
            " SHA baddfc24b08286a78392d5f565742c9bab5adfea EC2 Environment Look at Zookeeper Ec2 Deployment Test Topology png for a view of the topology h2 The test scenario Can be duplicated with single server ZK ensemble Start Container on a EC2 instance Wait till it joins cluster Start 2nd container on same EC2 instance h2 Observed Behavior Container 1 starts normally Container 2 reports that failed to bind to address shown in attached stack trace But does not terminate Shown as valid container when executing runtime containers command xd runtime containers Container Id Host IP Address PID Groups Custom Attributes 0c88a300 9469 4f21 a256 7733259b13c7 ip 10 70 11 185 10 70 11 185 2061 256c35b7 c9f4 43ba 81dd e1bfff0fb7c1 ip 10 70 9 57 10 70 9 57 3604 31fedc48 2762 4c45 8075 1dce64af5391 ip 10 110 186 48 10 110 186 48 2396 GROUPA 524bb933 a8b5 4014 a0b5 06d4fa8b30c2 ip 10 2 209 174 10 2 209 174 2123 e993026e e2ac 4d16 9890 0786149d7b75 ip 10 110 186 48 10 110 186 48 2524 GROUPA f9437b15 1ee2 4827 99d4 e7957f9abdf2 ip 10 70 9 153 10 70 9 153 2366 GROUP0\n",
            "Storypoint:  5\n",
            "\n",
            "------------------------------\n",
            "\n",
            "\u001b[1mTítulo:\n",
            " Create JDBC sink\n",
            "Descripción:\n",
            " we need a JDBC sink for writing to HAWQ using int jdbc outbound channel adapter and postgresql JDBC driver\n",
            "Storypoint:  3\n",
            "\n",
            "------------------------------\n",
            "\n",
            "\u001b[1mTítulo:\n",
            " Add support to stop existing Sqoop jobs\n",
            "Descripción:\n",
            " As a user I d like to have the option to stop an existing Sqoop job so that I can clean up resources at the time of completion\n",
            "Storypoint:  8\n",
            "\n",
            "------------------------------\n",
            "\n",
            "\u001b[1mTítulo:\n",
            " Remove jline from xd dirt classpath\n",
            "Descripción:\n",
            " Currently jline 2 11 gets added via zookeeper dependency we need to remove this so we can have jline 1 0 fir Pig jobs in the hadoop depndencies This jline version should remain for xd shell classpath though\n",
            "Storypoint:  1\n",
            "\n",
            "------------------------------\n",
            "\n",
            "\u001b[1mTítulo:\n",
            " Investigate timestamp handling for events in case of Elastic Search\n",
            "Descripción:\n",
            " The timestamps stored in the ES server are not in UTC They are as follows logTimestamp 1382625106334 agentTimestamp 1382625106334 serverTimestamp 1382625106358 Also the id attribute is stored as null in the server\n",
            "Storypoint:  1\n",
            "\n",
            "------------------------------\n",
            "\n",
            "\u001b[1mTítulo:\n",
            " Manual acknowledgement with Kafka bus doesn t work\n",
            "Descripción:\n",
            " When the kafka message headers are expected to be set with acknowledgement flags to manually acknowledge the messages at the consumer side the message headers are missing\n",
            "Storypoint:  1\n",
            "\n",
            "------------------------------\n",
            "\n",
            "\u001b[1mTítulo:\n",
            " JVM in ESB Runtime Karaf Keep files open\n",
            "Descripción:\n",
            " I published several jobs and ESB services on Karaf These jobs use an ActiveMQ server SCP File Copy MOMInput When I used many times theses jobs all network connections are kept in a opened file status in Linux viewed by lsof command or netstat a command I modify the ulimit and fs filelimit in the OS in order to manage many open files but no chance After several jobs runs I got Too Many files open from TESB log in my container and lsof command show a lot of TCP Session open and established I try to add several SCP Close command or TMomCommit but no chance The only way to reset the files counter is a complete container restart\n",
            "Storypoint:  2\n",
            "\n",
            "------------------------------\n",
            "\n"
          ]
        }
      ]
    },
    {
      "cell_type": "code",
      "source": [
        "import matplotlib.pyplot as plt\n",
        "\n",
        "plt.figure(figsize=(8, 4))\n",
        "plt.hist([mean_len_token_title, mean_len_token_description], bins=30, label=['Title', 'Description'])\n",
        "plt.xlabel('Longitud promedio')\n",
        "plt.ylabel('Frecuencia')\n",
        "plt.title('Distribucion de longitud promedio de tokens')\n",
        "plt.legend()\n",
        "plt.show()"
      ],
      "metadata": {
        "colab": {
          "base_uri": "https://localhost:8080/",
          "height": 419
        },
        "id": "mBVDbEqLT2sD",
        "outputId": "2693d681-2ab1-45df-befc-5e8b74ebf20e"
      },
      "execution_count": null,
      "outputs": [
        {
          "output_type": "display_data",
          "data": {
            "text/plain": [
              "<Figure size 800x400 with 1 Axes>"
            ],
            "image/png": "[encoded data removed]"
          },
          "metadata": {}
        }
      ]
    },
    {
      "cell_type": "markdown",
      "source": [
        "### Vectorizamos aplicando la técnica de TF-IDF y Bag Of Words"
      ],
      "metadata": {
        "id": "S7pxVNrc0co3"
      }
    },
    {
      "cell_type": "code",
      "source": [
        "import spacy\n",
        "from sklearn.feature_extraction.text import TfidfVectorizer\n",
        "from sklearn.feature_extraction.text import CountVectorizer\n",
        "import numpy as np\n",
        "nlp = spacy.load(\"en_core_web_sm\")"
      ],
      "metadata": {
        "id": "uM0aWhhD8UwE"
      },
      "execution_count": null,
      "outputs": []
    },
    {
      "cell_type": "code",
      "source": [
        "def lemmatize_text(text):\n",
        "    doc = nlp(text)\n",
        "    return \" \".join([token.lemma_ for token in doc if not token.is_stop and not token.is_punct])"
      ],
      "metadata": {
        "id": "0pi_PVx48iDu"
      },
      "execution_count": null,
      "outputs": []
    },
    {
      "cell_type": "code",
      "source": [
        "def procesar_tfidf(data_set, train=True, vectorizer=None):\n",
        "\n",
        "    data_set['title_description_lemmatized'] = (data_set['title'] + ' ' + data_set['description']).apply(lemmatize_text)\n",
        "\n",
        "\n",
        "    if train:\n",
        "        vectorizer = TfidfVectorizer()\n",
        "        title_description_vec = vectorizer.fit_transform(data_set['title_description_lemmatized'])\n",
        "    else:\n",
        "        title_description_vec = vectorizer.transform(data_set['title_description_lemmatized'])\n",
        "\n",
        "\n",
        "    project_encoder = data_set['project-encoder'].values.reshape(-1, 1)\n",
        "    vec_tfidf = np.hstack((title_description_vec.toarray(), project_encoder))\n",
        "    data_set['tfidf'] = list(vec_tfidf)\n",
        "\n",
        "    return data_set, vectorizer\n"
      ],
      "metadata": {
        "id": "PNgvRWgE5Yko"
      },
      "execution_count": null,
      "outputs": []
    },
    {
      "cell_type": "code",
      "source": [
        "def procesar_bow(data_set, train=True, vectorizer=None):\n",
        "\n",
        "    data_set['title_description_lemmatized'] = (data_set['title'] + ' ' + data_set['description']).apply(lemmatize_text)\n",
        "\n",
        "\n",
        "    if vectorizer is None:\n",
        "        vectorizer = CountVectorizer(stop_words='english')\n",
        "\n",
        "    if train:\n",
        "        title_description_vec = vectorizer.fit_transform(data_set['title_description_lemmatized'])\n",
        "    else:\n",
        "        title_description_vec = vectorizer.transform(data_set['title_description_lemmatized'])\n",
        "\n",
        "\n",
        "    project_encoder = data_set['project-encoder'].values.reshape(-1, 1)\n",
        "    vec_bow = np.hstack((title_description_vec.toarray(), project_encoder))\n",
        "\n",
        "\n",
        "    data_set['bow'] = list(vec_bow)\n",
        "\n",
        "    return data_set, vectorizer\n"
      ],
      "metadata": {
        "id": "e5D6HyCA8Onj"
      },
      "execution_count": null,
      "outputs": []
    },
    {
      "cell_type": "code",
      "source": [
        "train_set, vectorizer = procesar_tfidf(train_set, train=True)\n",
        "test_set, _ = procesar_tfidf(test_set, train=False, vectorizer=vectorizer)"
      ],
      "metadata": {
        "id": "6OpyKgoj0trH"
      },
      "execution_count": null,
      "outputs": []
    },
    {
      "cell_type": "markdown",
      "source": [
        "# XG Boost"
      ],
      "metadata": {
        "id": "2lvnnFBARIb5"
      }
    },
    {
      "cell_type": "code",
      "source": [
        "!pip install xgboost"
      ],
      "metadata": {
        "id": "FyuB7p6ZyuAB",
        "colab": {
          "base_uri": "https://localhost:8080/"
        },
        "outputId": "1edd54cf-ca66-46db-b2ff-d39edaf0446c"
      },
      "execution_count": null,
      "outputs": [
        {
          "output_type": "stream",
          "name": "stdout",
          "text": [
            "Requirement already satisfied: xgboost in /usr/local/lib/python3.10/dist-packages (2.1.2)\n",
            "Requirement already satisfied: numpy in /usr/local/lib/python3.10/dist-packages (from xgboost) (1.26.4)\n",
            "Requirement already satisfied: nvidia-nccl-cu12 in /usr/local/lib/python3.10/dist-packages (from xgboost) (2.23.4)\n",
            "Requirement already satisfied: scipy in /usr/local/lib/python3.10/dist-packages (from xgboost) (1.13.1)\n"
          ]
        }
      ]
    },
    {
      "cell_type": "code",
      "source": [
        "import xgboost as xgb\n",
        "from sklearn.metrics import mean_squared_error"
      ],
      "metadata": {
        "id": "cLRiuBVsRSYC"
      },
      "execution_count": null,
      "outputs": []
    },
    {
      "cell_type": "code",
      "source": [
        "X_train = train_set['tfidf'].tolist()\n",
        "y_train = train_set['storypoint']\n",
        "X_test = test_set['tfidf'].tolist()\n",
        "\n",
        "model = xgb.XGBRegressor(objective='reg:squarederror', n_estimators=100, max_depth=6, learning_rate=0.1)\n",
        "\n",
        "model.fit(X_train, y_train)\n",
        "\n",
        "y_pred = model.predict(X_test)\n",
        "\n",
        "output = test_set[['id']].copy()\n",
        "output['storypoint'] = y_pred\n",
        "\n",
        "output.to_csv('td_idf_pred.csv', index=False)\n"
      ],
      "metadata": {
        "id": "ARVf1zg_yt7X"
      },
      "execution_count": null,
      "outputs": []
    },
    {
      "cell_type": "code",
      "source": [
        "output = test_set[['id']].copy()\n",
        "output['storypoint'] = y_pred.round()\n",
        "\n",
        "output.to_csv('td_idf_pred_round.csv', index=False)\n"
      ],
      "metadata": {
        "id": "yiVvxUpYVHKW"
      },
      "execution_count": null,
      "outputs": []
    },
    {
      "cell_type": "code",
      "source": [
        "import pickle\n",
        "\n",
        "model_pkl_file = \"XGBoost-TD-IDF.pkl\"\n",
        "\n",
        "with open(model_pkl_file, 'wb') as file:\n",
        "    pickle.dump(model, file)"
      ],
      "metadata": {
        "id": "FimhxWvHGO4c"
      },
      "execution_count": null,
      "outputs": []
    }
  ]
}
